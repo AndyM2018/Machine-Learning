{
 "cells": [
  {
   "cell_type": "markdown",
   "metadata": {},
   "source": [
    "# Predictive Modeling for Heart Disease"
   ]
  },
  {
   "cell_type": "markdown",
   "metadata": {},
   "source": [
    "### Group Name & Members\n",
    "- Group Name: 51\n",
    "- Group Members: Dan Clarke (s3873755), Andrew Mina (s3807663), Hemanth Kumar Mahendra Kumar (s3823997)"
   ]
  },
  {
   "cell_type": "markdown",
   "metadata": {},
   "source": [
    "## Table of Contents\n",
    "- [Introduction](#introduction)\n",
    "    - [Report Overview](#report)\n",
    "    - [Overview of Methodology](#methodology)\n",
    "- [Preparing the Data for Predictive Modeling](#prepare)\n",
    "    - [Splitting Data and Target](#split)\n",
    "    - [One-Hot Encoding](#encode)\n",
    "    - [Scaling and Normalising Features](#features)\n",
    "- [Predictive Modeling](#predict)\n",
    "    - [Feature Selection](#select)\n",
    "        - [Performance with Full Set of Features](#fullselect)\n",
    "        - [F Score Feature Selection](#fscoreselect)\n",
    "        - [Mutual Information Feature Selection](#MIselect)\n",
    "        - [Random Forest Importance Feature Selection](#RFIselect)\n",
    "        - [spFSR Feature Selection](#spFSRselect)\n",
    "        - [Performance Comparison of Feature Selection Methods](#performselect)\n",
    "    - [Model Fitting & Tuning](#tuning)\n",
    "        - [Train-Test Split](#split)\n",
    "        - [Select the Six Best Features](#six)        \n",
    "        - [KNN Hyperparameter Tuning](#KNN)\n",
    "        - [Decision Tree Hyperparamter Tunning](#DT)\n",
    "        - [Gaussian Naive Bayes Hyperparameter Tuning](#GB)\n",
    "        - [Support Vector Machines Hyperparameter Tuning](#SVM)\n",
    "        - [Random Forest Hyperparameter Tuning](#RF)\n",
    "        - [Best Score Summary](#BSsummary)\n",
    "    - [Model Comparison](#compare)\n",
    "        - [Area Under the Curve](#area)\n",
    "        - [Paired T-Test Comparison](#pairedttest)\n",
    "        - [Classification Report: Accuracy, Precision, Recall, & F1 Score](#classification)\n",
    "        - [Confusion Matrix](#confusion)\n",
    "        - [Profit Matrix](#profit)\n",
    "- [Critique & Limitations](#critique)\n",
    "- [Summary & Conclusions](#conclusion)\n",
    "    - [Project Summary](#psummary)\n",
    "    - [Summary of Findings](#fsummary)\n",
    "    - [Conclusions](#conclusions)\n",
    "- [References](#references)"
   ]
  },
  {
   "cell_type": "markdown",
   "metadata": {},
   "source": [
    "# Introduction <a name=\"introduction\"></a>"
   ]
  },
  {
   "cell_type": "markdown",
   "metadata": {},
   "source": [
    "## Report Overview <a name=\"report\"></a>\n",
    "Following Phase 1 of the Assignment, the purpose of Phase 2 was to implement Machine Learning models on the heart disease dataset for predictive modeling purposes.\n",
    "\n",
    "In this report the data was prepared including relevant features being one-hot encoded and all features scaled and normalised.\n",
    "\n",
    "Following the data preparation Feature Selection was undertaken, in which the best descriptive features in the dataset were determined using a number of different methods. These methods included: F-Score, Mutual Information, Random Forest Importance, and SpFSR feature selection.\n",
    "\n",
    "After this, Hyper-Parameter Fine-Tuning was undertaken on a variety of different machine learning models using the best descriptive features identified in the Feature Selection section. The models used in the Hyper-Parameter Fine-Tuning Process were the: K-Nearest Neighbors (KNN), Decision Tree, Gaussian Naïve Bayes, Support Vector Machines (SVM) and Random Forest models. \n",
    "\n",
    "The performance of the machine learning models was then compared using Area Under the Curve (AUC) and cross-validation processes. Further model comparison methods used included a Confusion Matrix, Profit/Loss matrix, and a Classification Report that included accuracy, precision, recall, and F1 scores.\n",
    "\n",
    "Finally, the strengths and limitations associated with the reports methodology were addressed and the findings of the report were summarised."
   ]
  },
  {
   "cell_type": "markdown",
   "metadata": {},
   "source": [
    "## Overview of Methodology\n",
    "The Predictive Modeling section of this report followed three main processes:\n",
    "1. Feature Selection\n",
    "2. Model Fitting & Tuning\n",
    "3. Model Comparison\n",
    "\n",
    "In the Feature Selection section the best descriptive features were determined. Firstly, the performance of all the descriptive features was examined using 5-fold cross-validation repeated three times and the scoring metric, Area Under the Curve. To see if a better performance could be achieved with only a select number of descriptive features the following feature selection methods were used: F-Score, Mutual Information, Random Forest Importance and SpFSR. These methods were run over different numbers of features to see how many features produced optimal performance in these methods. It was found the 6 features produced the best overall performance in each feature selection method, with SpFSR, F-Score, and Mutual Information performing equally well.\n",
    "\n",
    "In the Model Fitting & Tuning section a 70:30 Train-Test split was applied to the data. The D_train and D_test data was then spliced so it only contained the 6 best features as determined by the SpFSR feature selection. The 6 features from SpFSR were selected as this feature selection method had slightly better performance than the F-Score and Mutual Information methods. Hyper-Parameter Fine-Tuning was then undertaken for K-Nearest Neighbors, Decision Tree, Gaussian Naive-Bayes, Support Vector Machines, and Random Forest models. In the Hyper-Parameter Fine-Tuning process a Grid Search method was employed and the Area Under the Curve was used as the scoring metric for all models. Parameters within each model were selected by re-running the models codes with different parameters and using the parameters that achieved optimal performance for each model.\n",
    "\n",
    "In the Model Comparison section the models were compared on their scores with regards to Area Under the Curve, Accuracy, Precision, Recall, F1 scores within the Classification Report, True Positive Rate within the Confusion Matrix and Net Profit using a Profit Matrix. All these techniques were used to try and determine what the best Machine Learning model was for predicting the presence or absence of heart disease based on the dataset."
   ]
  },
  {
   "cell_type": "markdown",
   "metadata": {},
   "source": [
    "# Preparing the Data for Predictive Modeling <a name=\"prepare\"></a>"
   ]
  },
  {
   "cell_type": "code",
   "execution_count": 1,
   "metadata": {},
   "outputs": [],
   "source": [
    "import numpy as np\n",
    "import pandas as pd\n",
    "pd.set_option('display.max_columns', None) \n",
    "from scipy import stats\n",
    "import os\n",
    "import warnings\n",
    "import matplotlib.pyplot as plt\n",
    "import seaborn as sns\n",
    "from string import ascii_letters\n",
    "warnings.filterwarnings('ignore')\n",
    "from sklearn import preprocessing\n",
    "from sklearn.model_selection import cross_val_score, RepeatedStratifiedKFold\n",
    "import sklearn.metrics as metrics\n",
    "from sklearn.ensemble import RandomForestClassifier\n",
    "from sklearn import feature_selection as fs\n",
    "from sklearn.tree import DecisionTreeClassifier\n",
    "from sklearn.model_selection import train_test_split\n",
    "from sklearn.model_selection import RepeatedStratifiedKFold\n",
    "from sklearn.model_selection import GridSearchCV\n",
    "from sklearn.neighbors import KNeighborsClassifier\n",
    "from sklearn.preprocessing import PowerTransformer\n",
    "from sklearn.naive_bayes import GaussianNB\n",
    "from sklearn.model_selection import cross_val_score\n",
    "from sklearn.model_selection import StratifiedKFold\n",
    "from sklearn.svm import SVC\n",
    "from sklearn import metrics"
   ]
  },
  {
   "cell_type": "code",
   "execution_count": 2,
   "metadata": {},
   "outputs": [
    {
     "name": "stdout",
     "output_type": "stream",
     "text": [
      "Current working directory: /Users/danielclarke\n"
     ]
    }
   ],
   "source": [
    "cwd = os.getcwd()\n",
    "print(\"Current working directory: {0}\".format(cwd))"
   ]
  },
  {
   "cell_type": "code",
   "execution_count": 3,
   "metadata": {},
   "outputs": [
    {
     "name": "stdout",
     "output_type": "stream",
     "text": [
      "Current working directory: /Users/danielclarke/Desktop/RMIT Masters of Analytics/Machine Learning/Python Data\n"
     ]
    }
   ],
   "source": [
    "os.chdir('/Users/danielclarke/Desktop/RMIT Masters of Analytics/Machine Learning/Python Data')\n",
    "print(\"Current working directory: {0}\".format(os.getcwd()))"
   ]
  },
  {
   "cell_type": "markdown",
   "metadata": {},
   "source": [
    "*The SpFSR module is imported after defining the working directory as the material necessary to importing the SpFSR module in Python are contained in the above file path.*"
   ]
  },
  {
   "cell_type": "code",
   "execution_count": 4,
   "metadata": {},
   "outputs": [],
   "source": [
    "from spFSR import SpFSR"
   ]
  },
  {
   "cell_type": "code",
   "execution_count": 5,
   "metadata": {},
   "outputs": [],
   "source": [
    "heart = pd.read_csv(r\"/Users/danielclarke/Desktop/RMIT Masters of Analytics/Machine Learning/Python Data/Data_Group51.csv\")"
   ]
  },
  {
   "cell_type": "code",
   "execution_count": 6,
   "metadata": {},
   "outputs": [
    {
     "data": {
      "text/html": [
       "<div>\n",
       "<style scoped>\n",
       "    .dataframe tbody tr th:only-of-type {\n",
       "        vertical-align: middle;\n",
       "    }\n",
       "\n",
       "    .dataframe tbody tr th {\n",
       "        vertical-align: top;\n",
       "    }\n",
       "\n",
       "    .dataframe thead th {\n",
       "        text-align: right;\n",
       "    }\n",
       "</style>\n",
       "<table border=\"1\" class=\"dataframe\">\n",
       "  <thead>\n",
       "    <tr style=\"text-align: right;\">\n",
       "      <th></th>\n",
       "      <th>age</th>\n",
       "      <th>sex</th>\n",
       "      <th>chest pain type</th>\n",
       "      <th>resting bp s</th>\n",
       "      <th>cholesterol</th>\n",
       "      <th>fasting blood sugar</th>\n",
       "      <th>resting ecg</th>\n",
       "      <th>max heart rate</th>\n",
       "      <th>exercise angina</th>\n",
       "      <th>oldpeak</th>\n",
       "      <th>ST slope</th>\n",
       "      <th>target</th>\n",
       "    </tr>\n",
       "  </thead>\n",
       "  <tbody>\n",
       "    <tr>\n",
       "      <th>0</th>\n",
       "      <td>40</td>\n",
       "      <td>1</td>\n",
       "      <td>2</td>\n",
       "      <td>140</td>\n",
       "      <td>289</td>\n",
       "      <td>0</td>\n",
       "      <td>0</td>\n",
       "      <td>172</td>\n",
       "      <td>0</td>\n",
       "      <td>0.0</td>\n",
       "      <td>1</td>\n",
       "      <td>0</td>\n",
       "    </tr>\n",
       "    <tr>\n",
       "      <th>1</th>\n",
       "      <td>49</td>\n",
       "      <td>0</td>\n",
       "      <td>3</td>\n",
       "      <td>160</td>\n",
       "      <td>180</td>\n",
       "      <td>0</td>\n",
       "      <td>0</td>\n",
       "      <td>156</td>\n",
       "      <td>0</td>\n",
       "      <td>1.0</td>\n",
       "      <td>2</td>\n",
       "      <td>1</td>\n",
       "    </tr>\n",
       "    <tr>\n",
       "      <th>2</th>\n",
       "      <td>37</td>\n",
       "      <td>1</td>\n",
       "      <td>2</td>\n",
       "      <td>130</td>\n",
       "      <td>283</td>\n",
       "      <td>0</td>\n",
       "      <td>1</td>\n",
       "      <td>98</td>\n",
       "      <td>0</td>\n",
       "      <td>0.0</td>\n",
       "      <td>1</td>\n",
       "      <td>0</td>\n",
       "    </tr>\n",
       "    <tr>\n",
       "      <th>3</th>\n",
       "      <td>48</td>\n",
       "      <td>0</td>\n",
       "      <td>4</td>\n",
       "      <td>138</td>\n",
       "      <td>214</td>\n",
       "      <td>0</td>\n",
       "      <td>0</td>\n",
       "      <td>108</td>\n",
       "      <td>1</td>\n",
       "      <td>1.5</td>\n",
       "      <td>2</td>\n",
       "      <td>1</td>\n",
       "    </tr>\n",
       "    <tr>\n",
       "      <th>4</th>\n",
       "      <td>54</td>\n",
       "      <td>1</td>\n",
       "      <td>3</td>\n",
       "      <td>150</td>\n",
       "      <td>195</td>\n",
       "      <td>0</td>\n",
       "      <td>0</td>\n",
       "      <td>122</td>\n",
       "      <td>0</td>\n",
       "      <td>0.0</td>\n",
       "      <td>1</td>\n",
       "      <td>0</td>\n",
       "    </tr>\n",
       "  </tbody>\n",
       "</table>\n",
       "</div>"
      ],
      "text/plain": [
       "   age  sex  chest pain type  resting bp s  cholesterol  fasting blood sugar  \\\n",
       "0   40    1                2           140          289                    0   \n",
       "1   49    0                3           160          180                    0   \n",
       "2   37    1                2           130          283                    0   \n",
       "3   48    0                4           138          214                    0   \n",
       "4   54    1                3           150          195                    0   \n",
       "\n",
       "   resting ecg  max heart rate  exercise angina  oldpeak  ST slope  target  \n",
       "0            0             172                0      0.0         1       0  \n",
       "1            0             156                0      1.0         2       1  \n",
       "2            1              98                0      0.0         1       0  \n",
       "3            0             108                1      1.5         2       1  \n",
       "4            0             122                0      0.0         1       0  "
      ]
     },
     "execution_count": 6,
     "metadata": {},
     "output_type": "execute_result"
    }
   ],
   "source": [
    "heart.head()"
   ]
  },
  {
   "cell_type": "code",
   "execution_count": 7,
   "metadata": {},
   "outputs": [],
   "source": [
    "heart = heart[heart['cholesterol'] != 0] \n",
    "heart = heart[heart['resting bp s'] != 0]\n",
    "heart = heart[heart['ST slope'] != 0]"
   ]
  },
  {
   "cell_type": "code",
   "execution_count": 8,
   "metadata": {},
   "outputs": [
    {
     "data": {
      "text/plain": [
       "age                    0\n",
       "sex                    0\n",
       "chest pain type        0\n",
       "resting bp s           0\n",
       "cholesterol            0\n",
       "fasting blood sugar    0\n",
       "resting ecg            0\n",
       "max heart rate         0\n",
       "exercise angina        0\n",
       "oldpeak                0\n",
       "ST slope               0\n",
       "target                 0\n",
       "dtype: int64"
      ]
     },
     "execution_count": 8,
     "metadata": {},
     "output_type": "execute_result"
    }
   ],
   "source": [
    "heart.isna().sum()"
   ]
  },
  {
   "cell_type": "code",
   "execution_count": 9,
   "metadata": {},
   "outputs": [
    {
     "name": "stdout",
     "output_type": "stream",
     "text": [
      "(array([ 28,  30,  76, 103, 109, 149, 167, 242, 251, 331, 331, 420, 445,\n",
      "       561, 588, 600, 679, 805, 837, 840, 866, 902, 999]), array([4, 4, 4, 4, 3, 4, 9, 3, 4, 4, 7, 3, 4, 3, 3, 9, 9, 9, 9, 3, 4, 3,\n",
      "       9]))\n"
     ]
    }
   ],
   "source": [
    "z = np.abs(stats.zscore(heart))\n",
    "print(np.where(z>3))"
   ]
  },
  {
   "cell_type": "code",
   "execution_count": 10,
   "metadata": {},
   "outputs": [],
   "source": [
    "heart = heart[((z < 3)).all(axis=1)]"
   ]
  },
  {
   "cell_type": "markdown",
   "metadata": {},
   "source": [
    "## Splitting Data and Target <a name=\"split\"></a>"
   ]
  },
  {
   "cell_type": "code",
   "execution_count": 11,
   "metadata": {},
   "outputs": [
    {
     "data": {
      "text/plain": [
       "0    536\n",
       "1    459\n",
       "Name: target, dtype: int64"
      ]
     },
     "execution_count": 11,
     "metadata": {},
     "output_type": "execute_result"
    }
   ],
   "source": [
    "Data = heart.drop(columns='target')\n",
    "target = heart['target']\n",
    "target.value_counts()"
   ]
  },
  {
   "cell_type": "markdown",
   "metadata": {},
   "source": [
    "## One Hot Encoding <a name=\"encode\"></a>\n",
    "The variables Chest Pain Type, resting ECG, and ST Slope were converted from numerical to object variables in order to one-hot encode them. These were the only variables that needed one-hot encoding in the dataset as the other variables were either numerical in nature such as Age or were already been one-hot encoded by the creator of the dataset."
   ]
  },
  {
   "cell_type": "code",
   "execution_count": 12,
   "metadata": {},
   "outputs": [
    {
     "data": {
      "text/plain": [
       "age                      int64\n",
       "sex                      int64\n",
       "chest pain type          int64\n",
       "resting bp s             int64\n",
       "cholesterol              int64\n",
       "fasting blood sugar      int64\n",
       "resting ecg              int64\n",
       "max heart rate           int64\n",
       "exercise angina          int64\n",
       "oldpeak                float64\n",
       "ST slope                 int64\n",
       "dtype: object"
      ]
     },
     "execution_count": 12,
     "metadata": {},
     "output_type": "execute_result"
    }
   ],
   "source": [
    "Data.dtypes"
   ]
  },
  {
   "cell_type": "code",
   "execution_count": 13,
   "metadata": {},
   "outputs": [],
   "source": [
    "Data['chest pain type']=Data['chest pain type'].astype('object')\n",
    "Data['resting ecg']=Data['resting ecg'].astype('object')\n",
    "Data['ST slope']=Data['ST slope'].astype('object')"
   ]
  },
  {
   "cell_type": "code",
   "execution_count": 14,
   "metadata": {},
   "outputs": [
    {
     "data": {
      "text/plain": [
       "['chest pain type', 'resting ecg', 'ST slope']"
      ]
     },
     "execution_count": 14,
     "metadata": {},
     "output_type": "execute_result"
    }
   ],
   "source": [
    "categorical_cols = Data.columns[Data.dtypes==object].tolist()\n",
    "categorical_cols"
   ]
  },
  {
   "cell_type": "code",
   "execution_count": 15,
   "metadata": {},
   "outputs": [],
   "source": [
    "for col in categorical_cols:\n",
    "    n = len(Data[col].unique())\n",
    "    if (n == 2):\n",
    "        Data[col] = pd.get_dummies(Data[col], drop_first=True)\n",
    "\n",
    "Data = pd.get_dummies(Data)"
   ]
  },
  {
   "cell_type": "code",
   "execution_count": 16,
   "metadata": {},
   "outputs": [
    {
     "data": {
      "text/html": [
       "<div>\n",
       "<style scoped>\n",
       "    .dataframe tbody tr th:only-of-type {\n",
       "        vertical-align: middle;\n",
       "    }\n",
       "\n",
       "    .dataframe tbody tr th {\n",
       "        vertical-align: top;\n",
       "    }\n",
       "\n",
       "    .dataframe thead th {\n",
       "        text-align: right;\n",
       "    }\n",
       "</style>\n",
       "<table border=\"1\" class=\"dataframe\">\n",
       "  <thead>\n",
       "    <tr style=\"text-align: right;\">\n",
       "      <th></th>\n",
       "      <th>age</th>\n",
       "      <th>sex</th>\n",
       "      <th>resting bp s</th>\n",
       "      <th>cholesterol</th>\n",
       "      <th>fasting blood sugar</th>\n",
       "      <th>max heart rate</th>\n",
       "      <th>exercise angina</th>\n",
       "      <th>oldpeak</th>\n",
       "      <th>chest pain type_1</th>\n",
       "      <th>chest pain type_2</th>\n",
       "      <th>chest pain type_3</th>\n",
       "      <th>chest pain type_4</th>\n",
       "      <th>resting ecg_0</th>\n",
       "      <th>resting ecg_1</th>\n",
       "      <th>resting ecg_2</th>\n",
       "      <th>ST slope_1</th>\n",
       "      <th>ST slope_2</th>\n",
       "      <th>ST slope_3</th>\n",
       "    </tr>\n",
       "  </thead>\n",
       "  <tbody>\n",
       "    <tr>\n",
       "      <th>0</th>\n",
       "      <td>40</td>\n",
       "      <td>1</td>\n",
       "      <td>140</td>\n",
       "      <td>289</td>\n",
       "      <td>0</td>\n",
       "      <td>172</td>\n",
       "      <td>0</td>\n",
       "      <td>0.0</td>\n",
       "      <td>0</td>\n",
       "      <td>1</td>\n",
       "      <td>0</td>\n",
       "      <td>0</td>\n",
       "      <td>1</td>\n",
       "      <td>0</td>\n",
       "      <td>0</td>\n",
       "      <td>1</td>\n",
       "      <td>0</td>\n",
       "      <td>0</td>\n",
       "    </tr>\n",
       "    <tr>\n",
       "      <th>1</th>\n",
       "      <td>49</td>\n",
       "      <td>0</td>\n",
       "      <td>160</td>\n",
       "      <td>180</td>\n",
       "      <td>0</td>\n",
       "      <td>156</td>\n",
       "      <td>0</td>\n",
       "      <td>1.0</td>\n",
       "      <td>0</td>\n",
       "      <td>0</td>\n",
       "      <td>1</td>\n",
       "      <td>0</td>\n",
       "      <td>1</td>\n",
       "      <td>0</td>\n",
       "      <td>0</td>\n",
       "      <td>0</td>\n",
       "      <td>1</td>\n",
       "      <td>0</td>\n",
       "    </tr>\n",
       "    <tr>\n",
       "      <th>2</th>\n",
       "      <td>37</td>\n",
       "      <td>1</td>\n",
       "      <td>130</td>\n",
       "      <td>283</td>\n",
       "      <td>0</td>\n",
       "      <td>98</td>\n",
       "      <td>0</td>\n",
       "      <td>0.0</td>\n",
       "      <td>0</td>\n",
       "      <td>1</td>\n",
       "      <td>0</td>\n",
       "      <td>0</td>\n",
       "      <td>0</td>\n",
       "      <td>1</td>\n",
       "      <td>0</td>\n",
       "      <td>1</td>\n",
       "      <td>0</td>\n",
       "      <td>0</td>\n",
       "    </tr>\n",
       "    <tr>\n",
       "      <th>3</th>\n",
       "      <td>48</td>\n",
       "      <td>0</td>\n",
       "      <td>138</td>\n",
       "      <td>214</td>\n",
       "      <td>0</td>\n",
       "      <td>108</td>\n",
       "      <td>1</td>\n",
       "      <td>1.5</td>\n",
       "      <td>0</td>\n",
       "      <td>0</td>\n",
       "      <td>0</td>\n",
       "      <td>1</td>\n",
       "      <td>1</td>\n",
       "      <td>0</td>\n",
       "      <td>0</td>\n",
       "      <td>0</td>\n",
       "      <td>1</td>\n",
       "      <td>0</td>\n",
       "    </tr>\n",
       "    <tr>\n",
       "      <th>4</th>\n",
       "      <td>54</td>\n",
       "      <td>1</td>\n",
       "      <td>150</td>\n",
       "      <td>195</td>\n",
       "      <td>0</td>\n",
       "      <td>122</td>\n",
       "      <td>0</td>\n",
       "      <td>0.0</td>\n",
       "      <td>0</td>\n",
       "      <td>0</td>\n",
       "      <td>1</td>\n",
       "      <td>0</td>\n",
       "      <td>1</td>\n",
       "      <td>0</td>\n",
       "      <td>0</td>\n",
       "      <td>1</td>\n",
       "      <td>0</td>\n",
       "      <td>0</td>\n",
       "    </tr>\n",
       "    <tr>\n",
       "      <th>5</th>\n",
       "      <td>39</td>\n",
       "      <td>1</td>\n",
       "      <td>120</td>\n",
       "      <td>339</td>\n",
       "      <td>0</td>\n",
       "      <td>170</td>\n",
       "      <td>0</td>\n",
       "      <td>0.0</td>\n",
       "      <td>0</td>\n",
       "      <td>0</td>\n",
       "      <td>1</td>\n",
       "      <td>0</td>\n",
       "      <td>1</td>\n",
       "      <td>0</td>\n",
       "      <td>0</td>\n",
       "      <td>1</td>\n",
       "      <td>0</td>\n",
       "      <td>0</td>\n",
       "    </tr>\n",
       "    <tr>\n",
       "      <th>6</th>\n",
       "      <td>45</td>\n",
       "      <td>0</td>\n",
       "      <td>130</td>\n",
       "      <td>237</td>\n",
       "      <td>0</td>\n",
       "      <td>170</td>\n",
       "      <td>0</td>\n",
       "      <td>0.0</td>\n",
       "      <td>0</td>\n",
       "      <td>1</td>\n",
       "      <td>0</td>\n",
       "      <td>0</td>\n",
       "      <td>1</td>\n",
       "      <td>0</td>\n",
       "      <td>0</td>\n",
       "      <td>1</td>\n",
       "      <td>0</td>\n",
       "      <td>0</td>\n",
       "    </tr>\n",
       "    <tr>\n",
       "      <th>7</th>\n",
       "      <td>54</td>\n",
       "      <td>1</td>\n",
       "      <td>110</td>\n",
       "      <td>208</td>\n",
       "      <td>0</td>\n",
       "      <td>142</td>\n",
       "      <td>0</td>\n",
       "      <td>0.0</td>\n",
       "      <td>0</td>\n",
       "      <td>1</td>\n",
       "      <td>0</td>\n",
       "      <td>0</td>\n",
       "      <td>1</td>\n",
       "      <td>0</td>\n",
       "      <td>0</td>\n",
       "      <td>1</td>\n",
       "      <td>0</td>\n",
       "      <td>0</td>\n",
       "    </tr>\n",
       "    <tr>\n",
       "      <th>8</th>\n",
       "      <td>37</td>\n",
       "      <td>1</td>\n",
       "      <td>140</td>\n",
       "      <td>207</td>\n",
       "      <td>0</td>\n",
       "      <td>130</td>\n",
       "      <td>1</td>\n",
       "      <td>1.5</td>\n",
       "      <td>0</td>\n",
       "      <td>0</td>\n",
       "      <td>0</td>\n",
       "      <td>1</td>\n",
       "      <td>1</td>\n",
       "      <td>0</td>\n",
       "      <td>0</td>\n",
       "      <td>0</td>\n",
       "      <td>1</td>\n",
       "      <td>0</td>\n",
       "    </tr>\n",
       "    <tr>\n",
       "      <th>9</th>\n",
       "      <td>48</td>\n",
       "      <td>0</td>\n",
       "      <td>120</td>\n",
       "      <td>284</td>\n",
       "      <td>0</td>\n",
       "      <td>120</td>\n",
       "      <td>0</td>\n",
       "      <td>0.0</td>\n",
       "      <td>0</td>\n",
       "      <td>1</td>\n",
       "      <td>0</td>\n",
       "      <td>0</td>\n",
       "      <td>1</td>\n",
       "      <td>0</td>\n",
       "      <td>0</td>\n",
       "      <td>1</td>\n",
       "      <td>0</td>\n",
       "      <td>0</td>\n",
       "    </tr>\n",
       "  </tbody>\n",
       "</table>\n",
       "</div>"
      ],
      "text/plain": [
       "   age  sex  resting bp s  cholesterol  fasting blood sugar  max heart rate  \\\n",
       "0   40    1           140          289                    0             172   \n",
       "1   49    0           160          180                    0             156   \n",
       "2   37    1           130          283                    0              98   \n",
       "3   48    0           138          214                    0             108   \n",
       "4   54    1           150          195                    0             122   \n",
       "5   39    1           120          339                    0             170   \n",
       "6   45    0           130          237                    0             170   \n",
       "7   54    1           110          208                    0             142   \n",
       "8   37    1           140          207                    0             130   \n",
       "9   48    0           120          284                    0             120   \n",
       "\n",
       "   exercise angina  oldpeak  chest pain type_1  chest pain type_2  \\\n",
       "0                0      0.0                  0                  1   \n",
       "1                0      1.0                  0                  0   \n",
       "2                0      0.0                  0                  1   \n",
       "3                1      1.5                  0                  0   \n",
       "4                0      0.0                  0                  0   \n",
       "5                0      0.0                  0                  0   \n",
       "6                0      0.0                  0                  1   \n",
       "7                0      0.0                  0                  1   \n",
       "8                1      1.5                  0                  0   \n",
       "9                0      0.0                  0                  1   \n",
       "\n",
       "   chest pain type_3  chest pain type_4  resting ecg_0  resting ecg_1  \\\n",
       "0                  0                  0              1              0   \n",
       "1                  1                  0              1              0   \n",
       "2                  0                  0              0              1   \n",
       "3                  0                  1              1              0   \n",
       "4                  1                  0              1              0   \n",
       "5                  1                  0              1              0   \n",
       "6                  0                  0              1              0   \n",
       "7                  0                  0              1              0   \n",
       "8                  0                  1              1              0   \n",
       "9                  0                  0              1              0   \n",
       "\n",
       "   resting ecg_2  ST slope_1  ST slope_2  ST slope_3  \n",
       "0              0           1           0           0  \n",
       "1              0           0           1           0  \n",
       "2              0           1           0           0  \n",
       "3              0           0           1           0  \n",
       "4              0           1           0           0  \n",
       "5              0           1           0           0  \n",
       "6              0           1           0           0  \n",
       "7              0           1           0           0  \n",
       "8              0           0           1           0  \n",
       "9              0           1           0           0  "
      ]
     },
     "execution_count": 16,
     "metadata": {},
     "output_type": "execute_result"
    }
   ],
   "source": [
    "Data.head(n=10)"
   ]
  },
  {
   "cell_type": "markdown",
   "metadata": {},
   "source": [
    "## Scaling and Normalising Features <a name=\"features\"></a>\n",
    "The features were scaled and normalised using the MinMaxScaler function in the sklearn module."
   ]
  },
  {
   "cell_type": "code",
   "execution_count": 17,
   "metadata": {},
   "outputs": [],
   "source": [
    "Data_df = Data.copy()\n",
    "\n",
    "Data_scaler = preprocessing.MinMaxScaler()\n",
    "Data_scaler.fit(Data)\n",
    "Data = Data_scaler.fit_transform(Data)"
   ]
  },
  {
   "cell_type": "code",
   "execution_count": 18,
   "metadata": {
    "scrolled": true
   },
   "outputs": [
    {
     "data": {
      "text/html": [
       "<div>\n",
       "<style scoped>\n",
       "    .dataframe tbody tr th:only-of-type {\n",
       "        vertical-align: middle;\n",
       "    }\n",
       "\n",
       "    .dataframe tbody tr th {\n",
       "        vertical-align: top;\n",
       "    }\n",
       "\n",
       "    .dataframe thead th {\n",
       "        text-align: right;\n",
       "    }\n",
       "</style>\n",
       "<table border=\"1\" class=\"dataframe\">\n",
       "  <thead>\n",
       "    <tr style=\"text-align: right;\">\n",
       "      <th></th>\n",
       "      <th>age</th>\n",
       "      <th>sex</th>\n",
       "      <th>resting bp s</th>\n",
       "      <th>cholesterol</th>\n",
       "      <th>fasting blood sugar</th>\n",
       "      <th>max heart rate</th>\n",
       "      <th>exercise angina</th>\n",
       "      <th>oldpeak</th>\n",
       "      <th>chest pain type_1</th>\n",
       "      <th>chest pain type_2</th>\n",
       "      <th>chest pain type_3</th>\n",
       "      <th>chest pain type_4</th>\n",
       "      <th>resting ecg_0</th>\n",
       "      <th>resting ecg_1</th>\n",
       "      <th>resting ecg_2</th>\n",
       "      <th>ST slope_1</th>\n",
       "      <th>ST slope_2</th>\n",
       "      <th>ST slope_3</th>\n",
       "    </tr>\n",
       "  </thead>\n",
       "  <tbody>\n",
       "    <tr>\n",
       "      <th>68</th>\n",
       "      <td>0.591837</td>\n",
       "      <td>1.0</td>\n",
       "      <td>0.545455</td>\n",
       "      <td>0.542169</td>\n",
       "      <td>0.0</td>\n",
       "      <td>0.564885</td>\n",
       "      <td>1.0</td>\n",
       "      <td>0.255814</td>\n",
       "      <td>0.0</td>\n",
       "      <td>1.0</td>\n",
       "      <td>0.0</td>\n",
       "      <td>0.0</td>\n",
       "      <td>0.0</td>\n",
       "      <td>1.0</td>\n",
       "      <td>0.0</td>\n",
       "      <td>0.0</td>\n",
       "      <td>1.0</td>\n",
       "      <td>0.0</td>\n",
       "    </tr>\n",
       "    <tr>\n",
       "      <th>569</th>\n",
       "      <td>0.122449</td>\n",
       "      <td>0.0</td>\n",
       "      <td>0.295455</td>\n",
       "      <td>0.376506</td>\n",
       "      <td>0.0</td>\n",
       "      <td>0.923664</td>\n",
       "      <td>0.0</td>\n",
       "      <td>0.186047</td>\n",
       "      <td>0.0</td>\n",
       "      <td>1.0</td>\n",
       "      <td>0.0</td>\n",
       "      <td>0.0</td>\n",
       "      <td>1.0</td>\n",
       "      <td>0.0</td>\n",
       "      <td>0.0</td>\n",
       "      <td>1.0</td>\n",
       "      <td>0.0</td>\n",
       "      <td>0.0</td>\n",
       "    </tr>\n",
       "    <tr>\n",
       "      <th>57</th>\n",
       "      <td>0.489796</td>\n",
       "      <td>1.0</td>\n",
       "      <td>0.227273</td>\n",
       "      <td>0.774096</td>\n",
       "      <td>0.0</td>\n",
       "      <td>0.190840</td>\n",
       "      <td>1.0</td>\n",
       "      <td>0.255814</td>\n",
       "      <td>0.0</td>\n",
       "      <td>0.0</td>\n",
       "      <td>0.0</td>\n",
       "      <td>1.0</td>\n",
       "      <td>0.0</td>\n",
       "      <td>1.0</td>\n",
       "      <td>0.0</td>\n",
       "      <td>0.0</td>\n",
       "      <td>1.0</td>\n",
       "      <td>0.0</td>\n",
       "    </tr>\n",
       "    <tr>\n",
       "      <th>351</th>\n",
       "      <td>0.734694</td>\n",
       "      <td>1.0</td>\n",
       "      <td>0.579545</td>\n",
       "      <td>0.665663</td>\n",
       "      <td>1.0</td>\n",
       "      <td>0.335878</td>\n",
       "      <td>1.0</td>\n",
       "      <td>0.441860</td>\n",
       "      <td>0.0</td>\n",
       "      <td>0.0</td>\n",
       "      <td>0.0</td>\n",
       "      <td>1.0</td>\n",
       "      <td>0.0</td>\n",
       "      <td>1.0</td>\n",
       "      <td>0.0</td>\n",
       "      <td>0.0</td>\n",
       "      <td>1.0</td>\n",
       "      <td>0.0</td>\n",
       "    </tr>\n",
       "    <tr>\n",
       "      <th>497</th>\n",
       "      <td>0.591837</td>\n",
       "      <td>1.0</td>\n",
       "      <td>0.659091</td>\n",
       "      <td>0.575301</td>\n",
       "      <td>0.0</td>\n",
       "      <td>0.312977</td>\n",
       "      <td>1.0</td>\n",
       "      <td>0.162791</td>\n",
       "      <td>0.0</td>\n",
       "      <td>0.0</td>\n",
       "      <td>0.0</td>\n",
       "      <td>1.0</td>\n",
       "      <td>0.0</td>\n",
       "      <td>0.0</td>\n",
       "      <td>1.0</td>\n",
       "      <td>0.0</td>\n",
       "      <td>1.0</td>\n",
       "      <td>0.0</td>\n",
       "    </tr>\n",
       "  </tbody>\n",
       "</table>\n",
       "</div>"
      ],
      "text/plain": [
       "          age  sex  resting bp s  cholesterol  fasting blood sugar  \\\n",
       "68   0.591837  1.0      0.545455     0.542169                  0.0   \n",
       "569  0.122449  0.0      0.295455     0.376506                  0.0   \n",
       "57   0.489796  1.0      0.227273     0.774096                  0.0   \n",
       "351  0.734694  1.0      0.579545     0.665663                  1.0   \n",
       "497  0.591837  1.0      0.659091     0.575301                  0.0   \n",
       "\n",
       "     max heart rate  exercise angina   oldpeak  chest pain type_1  \\\n",
       "68         0.564885              1.0  0.255814                0.0   \n",
       "569        0.923664              0.0  0.186047                0.0   \n",
       "57         0.190840              1.0  0.255814                0.0   \n",
       "351        0.335878              1.0  0.441860                0.0   \n",
       "497        0.312977              1.0  0.162791                0.0   \n",
       "\n",
       "     chest pain type_2  chest pain type_3  chest pain type_4  resting ecg_0  \\\n",
       "68                 1.0                0.0                0.0            0.0   \n",
       "569                1.0                0.0                0.0            1.0   \n",
       "57                 0.0                0.0                1.0            0.0   \n",
       "351                0.0                0.0                1.0            0.0   \n",
       "497                0.0                0.0                1.0            0.0   \n",
       "\n",
       "     resting ecg_1  resting ecg_2  ST slope_1  ST slope_2  ST slope_3  \n",
       "68             1.0            0.0         0.0         1.0         0.0  \n",
       "569            0.0            0.0         1.0         0.0         0.0  \n",
       "57             1.0            0.0         0.0         1.0         0.0  \n",
       "351            1.0            0.0         0.0         1.0         0.0  \n",
       "497            0.0            1.0         0.0         1.0         0.0  "
      ]
     },
     "execution_count": 18,
     "metadata": {},
     "output_type": "execute_result"
    }
   ],
   "source": [
    "pd.DataFrame(Data, columns=Data_df.columns).sample(5, random_state=999)"
   ]
  },
  {
   "cell_type": "markdown",
   "metadata": {},
   "source": [
    "# Predictive Modelling <a name=\"predict\"></a>"
   ]
  },
  {
   "cell_type": "markdown",
   "metadata": {},
   "source": [
    "## Feature Selection <a name=\"select\"></a>\n",
    "In this section of the report a variety of feature selection methods were used to determine the best features to use going forward. After running all the feature s\"election code below with different numbers of features, it was decided that 6 features was the optimal number as it yielded the best results for all the below feature selection methods."
   ]
  },
  {
   "cell_type": "markdown",
   "metadata": {},
   "source": [
    "### Performance with Full Set of Features <a name=\"fullselect\"></a>"
   ]
  },
  {
   "cell_type": "code",
   "execution_count": 19,
   "metadata": {},
   "outputs": [
    {
     "data": {
      "text/plain": [
       "array([0.88400488, 0.88109508, 0.89739943, 0.86011784, 0.91218001,\n",
       "       0.89585877, 0.91913856, 0.83914059, 0.90511987, 0.89739943,\n",
       "       0.90425315, 0.85229581, 0.92304957, 0.89435189, 0.87088582])"
      ]
     },
     "execution_count": 19,
     "metadata": {},
     "output_type": "execute_result"
    }
   ],
   "source": [
    "clf = DecisionTreeClassifier(random_state=999)\n",
    "cv_method = RepeatedStratifiedKFold(n_splits=5, \n",
    "                                     n_repeats=3,\n",
    "                                     random_state=999)\n",
    "scoring_metric = 'roc_auc'\n",
    "cv_results_full = cross_val_score(estimator=clf,\n",
    "                             X=Data,\n",
    "                             y=target, \n",
    "                             cv=cv_method, \n",
    "                             scoring=scoring_metric)\n",
    "cv_results_full"
   ]
  },
  {
   "cell_type": "code",
   "execution_count": 20,
   "metadata": {},
   "outputs": [
    {
     "data": {
      "text/plain": [
       "0.889"
      ]
     },
     "execution_count": 20,
     "metadata": {},
     "output_type": "execute_result"
    }
   ],
   "source": [
    "cv_results_full.mean().round(3)"
   ]
  },
  {
   "cell_type": "code",
   "execution_count": 21,
   "metadata": {},
   "outputs": [],
   "source": [
    "num_features = 6"
   ]
  },
  {
   "cell_type": "markdown",
   "metadata": {},
   "source": [
    "### F Score Feature Selection <a name=\"fscoreselect\"></a>"
   ]
  },
  {
   "cell_type": "code",
   "execution_count": 22,
   "metadata": {},
   "outputs": [
    {
     "data": {
      "text/plain": [
       "array([15, 16,  6, 11,  7,  5])"
      ]
     },
     "execution_count": 22,
     "metadata": {},
     "output_type": "execute_result"
    }
   ],
   "source": [
    "fs_fit_fscore = fs.SelectKBest(fs.f_classif, k=num_features)\n",
    "fs_fit_fscore.fit_transform(Data, target)\n",
    "fs_indices_fscore = np.argsort(np.nan_to_num(fs_fit_fscore.scores_))[::-1][0:num_features]\n",
    "fs_indices_fscore"
   ]
  },
  {
   "cell_type": "code",
   "execution_count": 23,
   "metadata": {},
   "outputs": [
    {
     "data": {
      "text/plain": [
       "array(['ST slope_1', 'ST slope_2', 'exercise angina', 'chest pain type_4',\n",
       "       'oldpeak', 'max heart rate'], dtype=object)"
      ]
     },
     "execution_count": 23,
     "metadata": {},
     "output_type": "execute_result"
    }
   ],
   "source": [
    "best_features_fscore = Data_df.columns[fs_indices_fscore].values\n",
    "best_features_fscore"
   ]
  },
  {
   "cell_type": "code",
   "execution_count": 24,
   "metadata": {},
   "outputs": [
    {
     "data": {
      "text/plain": [
       "array([512.69538405, 416.58643828, 373.91795116, 358.83621232,\n",
       "       294.14727648, 189.47896498])"
      ]
     },
     "execution_count": 24,
     "metadata": {},
     "output_type": "execute_result"
    }
   ],
   "source": [
    "feature_importances_fscore = fs_fit_fscore.scores_[fs_indices_fscore]\n",
    "feature_importances_fscore"
   ]
  },
  {
   "cell_type": "code",
   "execution_count": 25,
   "metadata": {},
   "outputs": [],
   "source": [
    "import matplotlib.pyplot as plt\n",
    "%matplotlib inline \n",
    "%config InlineBackend.figure_format = 'retina'\n",
    "plt.style.use(\"ggplot\")\n",
    "\n",
    "def plot_imp(best_features, scores, method_name):   \n",
    "    plt.barh(best_features, scores)\n",
    "    plt.title(method_name + ' Feature Importances')\n",
    "    plt.xlabel(\"Importance\")\n",
    "    plt.ylabel(\"Features\")\n",
    "    plt.show()"
   ]
  },
  {
   "cell_type": "code",
   "execution_count": 26,
   "metadata": {},
   "outputs": [
    {
     "data": {
      "image/png": "[encoded data removed]",
      "text/plain": [
       "<Figure size 432x288 with 1 Axes>"
      ]
     },
     "metadata": {
      "image/png": {
       "height": 281,
       "width": 461
      }
     },
     "output_type": "display_data"
    }
   ],
   "source": [
    "plot_imp(best_features_fscore, feature_importances_fscore, 'F-Score')"
   ]
  },
  {
   "cell_type": "code",
   "execution_count": 27,
   "metadata": {},
   "outputs": [
    {
     "data": {
      "text/plain": [
       "(995, 6)"
      ]
     },
     "execution_count": 27,
     "metadata": {},
     "output_type": "execute_result"
    }
   ],
   "source": [
    "Data[:, fs_indices_fscore].shape"
   ]
  },
  {
   "cell_type": "code",
   "execution_count": 28,
   "metadata": {},
   "outputs": [
    {
     "data": {
      "text/plain": [
       "0.904"
      ]
     },
     "execution_count": 28,
     "metadata": {},
     "output_type": "execute_result"
    }
   ],
   "source": [
    "cv_results_fscore = cross_val_score(estimator=clf,\n",
    "                             X=Data[:, fs_indices_fscore],\n",
    "                             y=target, \n",
    "                             cv=cv_method, \n",
    "                             scoring=scoring_metric)\n",
    "cv_results_fscore.mean().round(3)"
   ]
  },
  {
   "cell_type": "markdown",
   "metadata": {},
   "source": [
    "### Mutual Information Feature Selection <a name=\"MIselect\"></a>"
   ]
  },
  {
   "cell_type": "code",
   "execution_count": 29,
   "metadata": {},
   "outputs": [
    {
     "data": {
      "text/plain": [
       "array(['ST slope_1', 'oldpeak', 'ST slope_2', 'exercise angina',\n",
       "       'chest pain type_4', 'max heart rate'], dtype=object)"
      ]
     },
     "execution_count": 29,
     "metadata": {},
     "output_type": "execute_result"
    }
   ],
   "source": [
    "fs_fit_mutual_info = fs.SelectKBest(fs.mutual_info_classif, k=num_features)\n",
    "fs_fit_mutual_info.fit_transform(Data, target)\n",
    "fs_indices_mutual_info = np.argsort(fs_fit_mutual_info.scores_)[::-1][0:num_features]\n",
    "best_features_mutual_info = Data_df.columns[fs_indices_mutual_info].values\n",
    "best_features_mutual_info"
   ]
  },
  {
   "cell_type": "code",
   "execution_count": 30,
   "metadata": {},
   "outputs": [
    {
     "data": {
      "text/plain": [
       "array([0.17336358, 0.14466025, 0.13611683, 0.13369312, 0.13336647,\n",
       "       0.12489547])"
      ]
     },
     "execution_count": 30,
     "metadata": {},
     "output_type": "execute_result"
    }
   ],
   "source": [
    "feature_importances_mutual_info = fs_fit_mutual_info.scores_[fs_indices_mutual_info]\n",
    "feature_importances_mutual_info"
   ]
  },
  {
   "cell_type": "code",
   "execution_count": 31,
   "metadata": {},
   "outputs": [
    {
     "data": {
      "image/png": "[encoded data removed]",
      "text/plain": [
       "<Figure size 432x288 with 1 Axes>"
      ]
     },
     "metadata": {
      "image/png": {
       "height": 281,
       "width": 462
      }
     },
     "output_type": "display_data"
    }
   ],
   "source": [
    "plot_imp(best_features_mutual_info, feature_importances_mutual_info, 'Mutual Information')"
   ]
  },
  {
   "cell_type": "code",
   "execution_count": 32,
   "metadata": {},
   "outputs": [
    {
     "data": {
      "text/plain": [
       "0.904"
      ]
     },
     "execution_count": 32,
     "metadata": {},
     "output_type": "execute_result"
    }
   ],
   "source": [
    "cv_results_mutual_info = cross_val_score(estimator=clf,\n",
    "                             X=Data[:, fs_indices_mutual_info],\n",
    "                             y=target, \n",
    "                             cv=cv_method, \n",
    "                             scoring=scoring_metric)\n",
    "cv_results_mutual_info.mean().round(3)"
   ]
  },
  {
   "cell_type": "markdown",
   "metadata": {},
   "source": [
    "### Random Forest Importance Feature Selection <a name=\"RFIselect\"></a>"
   ]
  },
  {
   "cell_type": "code",
   "execution_count": 33,
   "metadata": {},
   "outputs": [],
   "source": [
    "model_rfi = RandomForestClassifier(n_estimators=100)\n",
    "model_rfi.fit(Data, target)\n",
    "fs_indices_rfi = np.argsort(model_rfi.feature_importances_)[::-1][0:num_features]"
   ]
  },
  {
   "cell_type": "code",
   "execution_count": 34,
   "metadata": {},
   "outputs": [
    {
     "data": {
      "text/plain": [
       "array(['ST slope_1', 'max heart rate', 'oldpeak', 'ST slope_2',\n",
       "       'exercise angina', 'chest pain type_4'], dtype=object)"
      ]
     },
     "execution_count": 34,
     "metadata": {},
     "output_type": "execute_result"
    }
   ],
   "source": [
    "best_features_rfi = Data_df.columns[fs_indices_rfi].values\n",
    "best_features_rfi"
   ]
  },
  {
   "cell_type": "code",
   "execution_count": 35,
   "metadata": {},
   "outputs": [
    {
     "data": {
      "text/plain": [
       "array([0.12291659, 0.10706106, 0.10436127, 0.09380158, 0.09231572,\n",
       "       0.09075689])"
      ]
     },
     "execution_count": 35,
     "metadata": {},
     "output_type": "execute_result"
    }
   ],
   "source": [
    "feature_importances_rfi = model_rfi.feature_importances_[fs_indices_rfi]\n",
    "feature_importances_rfi"
   ]
  },
  {
   "cell_type": "code",
   "execution_count": 36,
   "metadata": {},
   "outputs": [
    {
     "data": {
      "image/png": "[encoded data removed]",
      "text/plain": [
       "<Figure size 432x288 with 1 Axes>"
      ]
     },
     "metadata": {
      "image/png": {
       "height": 281,
       "width": 461
      }
     },
     "output_type": "display_data"
    }
   ],
   "source": [
    "plot_imp(best_features_rfi, feature_importances_rfi, 'Random Forest')"
   ]
  },
  {
   "cell_type": "code",
   "execution_count": 37,
   "metadata": {},
   "outputs": [
    {
     "data": {
      "text/plain": [
       "0.904"
      ]
     },
     "execution_count": 37,
     "metadata": {},
     "output_type": "execute_result"
    }
   ],
   "source": [
    "cv_results_rfi = cross_val_score(estimator=clf,\n",
    "                             X=Data[:, fs_indices_rfi],\n",
    "                             y=target, \n",
    "                             cv=cv_method, \n",
    "                             scoring=scoring_metric)\n",
    "cv_results_rfi.mean().round(3)"
   ]
  },
  {
   "cell_type": "markdown",
   "metadata": {},
   "source": [
    "### spFSR Feature Selection <a name=\"spFSRselect\"></a>"
   ]
  },
  {
   "cell_type": "code",
   "execution_count": 38,
   "metadata": {},
   "outputs": [],
   "source": [
    "sp_engine = SpFSR(x=Data, y=target, pred_type='c', wrapper=clf, scoring='roc_auc')"
   ]
  },
  {
   "cell_type": "code",
   "execution_count": 39,
   "metadata": {},
   "outputs": [
    {
     "name": "stderr",
     "output_type": "stream",
     "text": [
      "SpFSR-INFO: Wrapper: DecisionTreeClassifier(random_state=999)\n",
      "SpFSR-INFO: Hot start: True\n",
      "SpFSR-INFO: Hot start range: 0.2\n",
      "SpFSR-INFO: Feature weighting: False\n",
      "SpFSR-INFO: Scoring metric: roc_auc\n",
      "SpFSR-INFO: Number of jobs: 1\n",
      "SpFSR-INFO: Number of observations in the dataset: 995\n",
      "SpFSR-INFO: Number of observations used: 995\n",
      "SpFSR-INFO: Number of features available: 18\n",
      "SpFSR-INFO: Number of features to select: 6\n",
      "SpFSR-INFO: iter_no: 0, num_ft: 6, value: 0.892, st_dev: 0.019, best: 0.892 @ iter_no 0\n",
      "SpFSR-INFO: iter_no: 10, num_ft: 6, value: 0.879, st_dev: 0.025, best: 0.916 @ iter_no 3\n",
      "SpFSR-INFO: ===> iter_no: 15, same feature stall limit reached, initializing search...\n",
      "SpFSR-INFO: iter_no: 20, num_ft: 6, value: 0.907, st_dev: 0.015, best: 0.916 @ iter_no 3\n",
      "SpFSR-INFO: ===> iter_no: 23, same feature stall limit reached, initializing search...\n",
      "SpFSR-INFO: iter_no: 30, num_ft: 6, value: 0.911, st_dev: 0.022, best: 0.916 @ iter_no 3\n",
      "SpFSR-INFO: ===> iter_no: 36, same feature stall limit reached, initializing search...\n",
      "SpFSR-INFO: iter_no: 40, num_ft: 6, value: 0.883, st_dev: 0.019, best: 0.916 @ iter_no 3\n",
      "SpFSR-INFO: iter_no: 50, num_ft: 6, value: 0.883, st_dev: 0.028, best: 0.917 @ iter_no 42\n",
      "SpFSR-INFO: ===> iter_no: 52, same feature stall limit reached, initializing search...\n",
      "SpFSR-INFO: iter_no: 60, num_ft: 6, value: 0.888, st_dev: 0.021, best: 0.917 @ iter_no 42\n",
      "SpFSR-INFO: iter_no: 70, num_ft: 6, value: 0.915, st_dev: 0.017, best: 0.917 @ iter_no 42\n",
      "SpFSR-INFO: ===> iter_no: 71, same feature stall limit reached, initializing search...\n",
      "SpFSR-INFO: iter_no: 80, num_ft: 6, value: 0.907, st_dev: 0.021, best: 0.917 @ iter_no 42\n",
      "SpFSR-INFO: ===> iter_no: 87, same feature stall limit reached, initializing search...\n",
      "SpFSR-INFO: iter_no: 90, num_ft: 6, value: 0.89, st_dev: 0.019, best: 0.917 @ iter_no 42\n",
      "SpFSR-INFO: iter_no: 100, num_ft: 6, value: 0.903, st_dev: 0.023, best: 0.917 @ iter_no 42\n",
      "SpFSR-INFO: SpFSR completed in 0.23 minutes.\n",
      "SpFSR-INFO: Best value = 0.917 with 6 features and 100 total iterations.\n",
      "\n"
     ]
    }
   ],
   "source": [
    "np.random.seed(999)\n",
    "sp_output = sp_engine.run(num_features=num_features).results"
   ]
  },
  {
   "cell_type": "code",
   "execution_count": 40,
   "metadata": {},
   "outputs": [
    {
     "data": {
      "text/plain": [
       "[15, 6, 7, 11, 1, 5]"
      ]
     },
     "execution_count": 40,
     "metadata": {},
     "output_type": "execute_result"
    }
   ],
   "source": [
    "fs_indices_spsa = sp_output.get('selected_features')\n",
    "fs_indices_spsa"
   ]
  },
  {
   "cell_type": "code",
   "execution_count": 41,
   "metadata": {},
   "outputs": [
    {
     "data": {
      "text/plain": [
       "Index(['ST slope_1', 'exercise angina', 'oldpeak', 'chest pain type_4', 'sex',\n",
       "       'max heart rate'],\n",
       "      dtype='object')"
      ]
     },
     "execution_count": 41,
     "metadata": {},
     "output_type": "execute_result"
    }
   ],
   "source": [
    "best_features_spsa = Data_df.columns[fs_indices_spsa]\n",
    "best_features_spsa"
   ]
  },
  {
   "cell_type": "code",
   "execution_count": 42,
   "metadata": {},
   "outputs": [
    {
     "data": {
      "text/plain": [
       "array([ 0.11642675,  0.08324853,  0.07973922,  0.00131446, -0.01688048,\n",
       "       -0.01730697])"
      ]
     },
     "execution_count": 42,
     "metadata": {},
     "output_type": "execute_result"
    }
   ],
   "source": [
    "feature_importances_spsa = sp_output.get('selected_ft_importance')\n",
    "feature_importances_spsa"
   ]
  },
  {
   "cell_type": "code",
   "execution_count": 43,
   "metadata": {},
   "outputs": [
    {
     "data": {
      "image/png": "[encoded data removed]",
      "text/plain": [
       "<Figure size 432x288 with 1 Axes>"
      ]
     },
     "metadata": {
      "image/png": {
       "height": 281,
       "width": 465
      }
     },
     "output_type": "display_data"
    }
   ],
   "source": [
    "plot_imp(best_features_spsa, feature_importances_spsa, 'SPSA')"
   ]
  },
  {
   "cell_type": "code",
   "execution_count": 44,
   "metadata": {},
   "outputs": [
    {
     "data": {
      "text/plain": [
       "0.911"
      ]
     },
     "execution_count": 44,
     "metadata": {},
     "output_type": "execute_result"
    }
   ],
   "source": [
    "cv_results_spsa = cross_val_score(estimator=clf,\n",
    "                             X=Data[:, fs_indices_spsa],\n",
    "                             y=target, \n",
    "                             cv=cv_method, \n",
    "                             scoring=scoring_metric)\n",
    "cv_results_spsa.mean().round(3)"
   ]
  },
  {
   "cell_type": "markdown",
   "metadata": {},
   "source": [
    "### Performance Comparison of Feature Selection Methods <a name=\"performselect\"></a>\n",
    "It can be seen that SPSA feature selection yielded the best results. When all the feature selection methods were compared to using the full dataset significant differences between the full dataset and F-Score, Mutual Information, Random Forest Importance, and SPSA methods could be seen. However, when these methods performance were compared with each other no significance difference was seen, giving evidence for them all performing equally well. As SPSA yielded slightly better results than the other methods, the 6 features selected by it will be used going forward into the Model Fitting & Tuning section of this report."
   ]
  },
  {
   "cell_type": "code",
   "execution_count": 45,
   "metadata": {},
   "outputs": [
    {
     "name": "stdout",
     "output_type": "stream",
     "text": [
      "Full Set of Features: 0.889\n",
      "F-Score: 0.904\n",
      "Mutual Information: 0.904\n",
      "RFI: 0.904\n",
      "SPSA: 0.911\n"
     ]
    }
   ],
   "source": [
    "print('Full Set of Features:', cv_results_full.mean().round(3))\n",
    "print('F-Score:', cv_results_fscore.mean().round(3))\n",
    "print('Mutual Information:', cv_results_mutual_info.mean().round(3))\n",
    "print('RFI:', cv_results_rfi.mean().round(3))\n",
    "print('SPSA:', cv_results_spsa.mean().round(3)) "
   ]
  },
  {
   "cell_type": "code",
   "execution_count": 46,
   "metadata": {},
   "outputs": [
    {
     "name": "stdout",
     "output_type": "stream",
     "text": [
      "0.017\n",
      "0.009\n",
      "0.011\n",
      "0.005\n"
     ]
    }
   ],
   "source": [
    "print(stats.ttest_rel(cv_results_full, cv_results_fscore).pvalue.round(3))\n",
    "print(stats.ttest_rel(cv_results_full, cv_results_mutual_info).pvalue.round(3))\n",
    "print(stats.ttest_rel(cv_results_full, cv_results_rfi).pvalue.round(3))\n",
    "print(stats.ttest_rel(cv_results_full, cv_results_spsa).pvalue.round(3))"
   ]
  },
  {
   "cell_type": "code",
   "execution_count": 49,
   "metadata": {},
   "outputs": [
    {
     "name": "stdout",
     "output_type": "stream",
     "text": [
      "0.302\n",
      "0.304\n",
      "0.592\n",
      "0.996\n",
      "0.334\n",
      "0.284\n"
     ]
    }
   ],
   "source": [
    "print(stats.ttest_rel(cv_results_spsa, cv_results_fscore).pvalue.round(3))\n",
    "print(stats.ttest_rel(cv_results_spsa, cv_results_mutual_info).pvalue.round(3))\n",
    "print(stats.ttest_rel(cv_results_fscore, cv_results_mutual_info).pvalue.round(3))\n",
    "print(stats.ttest_rel(cv_results_rfi, cv_results_fscore).pvalue.round(3))\n",
    "print(stats.ttest_rel(cv_results_rfi, cv_results_mutual_info).pvalue.round(3))\n",
    "print(stats.ttest_rel(cv_results_rfi, cv_results_spsa).pvalue.round(3))"
   ]
  },
  {
   "cell_type": "markdown",
   "metadata": {},
   "source": [
    "## Model Fitting & Tuning <a name=\"tuning\"></a>\n",
    "For this section of the report a 70:30 Train-Test split was applied to the data. The D_train and D_test data was then sliced so it only contained the 6 best features as determined by the SpFSR feature selection method above. Hyperparameter tuning was then undertaken for K-Nearest Neighbors, Decision Tree, Gaussian Naive-Bayes, Support Vector Machines, and Random Forest models. In the Hyperparameter tuning process a Grid Search method was employed and the Area Under the Curve was used as the scoring metric for all models. Parameters within each model were selected by re-running to the code with different parameters and using the parameters that achieved optimal performance for each model."
   ]
  },
  {
   "cell_type": "markdown",
   "metadata": {},
   "source": [
    "### Train-Test Split <a name=\"split\"></a>"
   ]
  },
  {
   "cell_type": "code",
   "execution_count": 50,
   "metadata": {},
   "outputs": [],
   "source": [
    "D_train, D_test, t_train, t_test = train_test_split(Data,\n",
    "                                                   target,\n",
    "                                                   test_size = 0.3,\n",
    "                                                   random_state = 999,\n",
    "                                                   stratify = target)"
   ]
  },
  {
   "cell_type": "markdown",
   "metadata": {},
   "source": [
    "### Selecting the 6 Best Features <a name=\"six\"></a>"
   ]
  },
  {
   "cell_type": "code",
   "execution_count": 51,
   "metadata": {},
   "outputs": [],
   "source": [
    "D_train_fs = D_train[:, fs_indices_spsa]\n",
    "D_test_fs = D_test[:, fs_indices_spsa]"
   ]
  },
  {
   "cell_type": "markdown",
   "metadata": {},
   "source": [
    "### KNN Hyperparameter Tuning <a name=\"KNN\"></a>"
   ]
  },
  {
   "cell_type": "code",
   "execution_count": 52,
   "metadata": {},
   "outputs": [],
   "source": [
    "cv_method = RepeatedStratifiedKFold(n_splits=5, \n",
    "                                    n_repeats=3, \n",
    "                                    random_state=999)"
   ]
  },
  {
   "cell_type": "code",
   "execution_count": 53,
   "metadata": {},
   "outputs": [],
   "source": [
    "params_KNN = {'n_neighbors': [1, 2, 3, 4, 5, 6, 7], \n",
    "              'p': [1, 2, 5]}"
   ]
  },
  {
   "cell_type": "code",
   "execution_count": 54,
   "metadata": {},
   "outputs": [],
   "source": [
    "gs_KNN = GridSearchCV(estimator=KNeighborsClassifier(), \n",
    "                      param_grid=params_KNN, \n",
    "                      cv=cv_method,\n",
    "                      verbose=1,\n",
    "                      scoring='roc_auc', \n",
    "                      return_train_score=True)"
   ]
  },
  {
   "cell_type": "code",
   "execution_count": 55,
   "metadata": {},
   "outputs": [
    {
     "name": "stdout",
     "output_type": "stream",
     "text": [
      "Fitting 15 folds for each of 21 candidates, totalling 315 fits\n"
     ]
    },
    {
     "name": "stderr",
     "output_type": "stream",
     "text": [
      "[Parallel(n_jobs=1)]: Using backend SequentialBackend with 1 concurrent workers.\n",
      "[Parallel(n_jobs=1)]: Done 315 out of 315 | elapsed:    2.9s finished\n"
     ]
    }
   ],
   "source": [
    "gs_KNN.fit(D_train_fs, t_train);"
   ]
  },
  {
   "cell_type": "code",
   "execution_count": 56,
   "metadata": {},
   "outputs": [
    {
     "data": {
      "text/plain": [
       "{'n_neighbors': 6, 'p': 1}"
      ]
     },
     "execution_count": 56,
     "metadata": {},
     "output_type": "execute_result"
    }
   ],
   "source": [
    "gs_KNN.best_params_"
   ]
  },
  {
   "cell_type": "code",
   "execution_count": 57,
   "metadata": {},
   "outputs": [
    {
     "data": {
      "text/plain": [
       "0.916997863247863"
      ]
     },
     "execution_count": 57,
     "metadata": {},
     "output_type": "execute_result"
    }
   ],
   "source": [
    "gs_KNN.best_score_"
   ]
  },
  {
   "cell_type": "code",
   "execution_count": 58,
   "metadata": {},
   "outputs": [
    {
     "data": {
      "text/html": [
       "<div>\n",
       "<style scoped>\n",
       "    .dataframe tbody tr th:only-of-type {\n",
       "        vertical-align: middle;\n",
       "    }\n",
       "\n",
       "    .dataframe tbody tr th {\n",
       "        vertical-align: top;\n",
       "    }\n",
       "\n",
       "    .dataframe thead th {\n",
       "        text-align: right;\n",
       "    }\n",
       "</style>\n",
       "<table border=\"1\" class=\"dataframe\">\n",
       "  <thead>\n",
       "    <tr style=\"text-align: right;\">\n",
       "      <th></th>\n",
       "      <th>n_neighbors</th>\n",
       "      <th>p</th>\n",
       "      <th>test_score</th>\n",
       "      <th>metric</th>\n",
       "    </tr>\n",
       "  </thead>\n",
       "  <tbody>\n",
       "    <tr>\n",
       "      <th>0</th>\n",
       "      <td>1</td>\n",
       "      <td>1</td>\n",
       "      <td>0.857005</td>\n",
       "      <td>Manhattan</td>\n",
       "    </tr>\n",
       "    <tr>\n",
       "      <th>1</th>\n",
       "      <td>1</td>\n",
       "      <td>2</td>\n",
       "      <td>0.863457</td>\n",
       "      <td>Euclidean</td>\n",
       "    </tr>\n",
       "    <tr>\n",
       "      <th>2</th>\n",
       "      <td>1</td>\n",
       "      <td>5</td>\n",
       "      <td>0.861373</td>\n",
       "      <td>Minkowski</td>\n",
       "    </tr>\n",
       "    <tr>\n",
       "      <th>3</th>\n",
       "      <td>2</td>\n",
       "      <td>1</td>\n",
       "      <td>0.887928</td>\n",
       "      <td>Manhattan</td>\n",
       "    </tr>\n",
       "    <tr>\n",
       "      <th>4</th>\n",
       "      <td>2</td>\n",
       "      <td>2</td>\n",
       "      <td>0.893913</td>\n",
       "      <td>Euclidean</td>\n",
       "    </tr>\n",
       "    <tr>\n",
       "      <th>5</th>\n",
       "      <td>2</td>\n",
       "      <td>5</td>\n",
       "      <td>0.896189</td>\n",
       "      <td>Minkowski</td>\n",
       "    </tr>\n",
       "    <tr>\n",
       "      <th>6</th>\n",
       "      <td>3</td>\n",
       "      <td>1</td>\n",
       "      <td>0.902054</td>\n",
       "      <td>Manhattan</td>\n",
       "    </tr>\n",
       "    <tr>\n",
       "      <th>7</th>\n",
       "      <td>3</td>\n",
       "      <td>2</td>\n",
       "      <td>0.907794</td>\n",
       "      <td>Euclidean</td>\n",
       "    </tr>\n",
       "    <tr>\n",
       "      <th>8</th>\n",
       "      <td>3</td>\n",
       "      <td>5</td>\n",
       "      <td>0.908920</td>\n",
       "      <td>Minkowski</td>\n",
       "    </tr>\n",
       "    <tr>\n",
       "      <th>9</th>\n",
       "      <td>4</td>\n",
       "      <td>1</td>\n",
       "      <td>0.907310</td>\n",
       "      <td>Manhattan</td>\n",
       "    </tr>\n",
       "    <tr>\n",
       "      <th>10</th>\n",
       "      <td>4</td>\n",
       "      <td>2</td>\n",
       "      <td>0.913844</td>\n",
       "      <td>Euclidean</td>\n",
       "    </tr>\n",
       "    <tr>\n",
       "      <th>11</th>\n",
       "      <td>4</td>\n",
       "      <td>5</td>\n",
       "      <td>0.914092</td>\n",
       "      <td>Minkowski</td>\n",
       "    </tr>\n",
       "    <tr>\n",
       "      <th>12</th>\n",
       "      <td>5</td>\n",
       "      <td>1</td>\n",
       "      <td>0.915554</td>\n",
       "      <td>Manhattan</td>\n",
       "    </tr>\n",
       "    <tr>\n",
       "      <th>13</th>\n",
       "      <td>5</td>\n",
       "      <td>2</td>\n",
       "      <td>0.914934</td>\n",
       "      <td>Euclidean</td>\n",
       "    </tr>\n",
       "    <tr>\n",
       "      <th>14</th>\n",
       "      <td>5</td>\n",
       "      <td>5</td>\n",
       "      <td>0.915905</td>\n",
       "      <td>Minkowski</td>\n",
       "    </tr>\n",
       "    <tr>\n",
       "      <th>15</th>\n",
       "      <td>6</td>\n",
       "      <td>1</td>\n",
       "      <td>0.916998</td>\n",
       "      <td>Manhattan</td>\n",
       "    </tr>\n",
       "    <tr>\n",
       "      <th>16</th>\n",
       "      <td>6</td>\n",
       "      <td>2</td>\n",
       "      <td>0.914606</td>\n",
       "      <td>Euclidean</td>\n",
       "    </tr>\n",
       "    <tr>\n",
       "      <th>17</th>\n",
       "      <td>6</td>\n",
       "      <td>5</td>\n",
       "      <td>0.913982</td>\n",
       "      <td>Minkowski</td>\n",
       "    </tr>\n",
       "    <tr>\n",
       "      <th>18</th>\n",
       "      <td>7</td>\n",
       "      <td>1</td>\n",
       "      <td>0.915794</td>\n",
       "      <td>Manhattan</td>\n",
       "    </tr>\n",
       "    <tr>\n",
       "      <th>19</th>\n",
       "      <td>7</td>\n",
       "      <td>2</td>\n",
       "      <td>0.914752</td>\n",
       "      <td>Euclidean</td>\n",
       "    </tr>\n",
       "    <tr>\n",
       "      <th>20</th>\n",
       "      <td>7</td>\n",
       "      <td>5</td>\n",
       "      <td>0.913631</td>\n",
       "      <td>Minkowski</td>\n",
       "    </tr>\n",
       "  </tbody>\n",
       "</table>\n",
       "</div>"
      ],
      "text/plain": [
       "    n_neighbors  p  test_score     metric\n",
       "0             1  1    0.857005  Manhattan\n",
       "1             1  2    0.863457  Euclidean\n",
       "2             1  5    0.861373  Minkowski\n",
       "3             2  1    0.887928  Manhattan\n",
       "4             2  2    0.893913  Euclidean\n",
       "5             2  5    0.896189  Minkowski\n",
       "6             3  1    0.902054  Manhattan\n",
       "7             3  2    0.907794  Euclidean\n",
       "8             3  5    0.908920  Minkowski\n",
       "9             4  1    0.907310  Manhattan\n",
       "10            4  2    0.913844  Euclidean\n",
       "11            4  5    0.914092  Minkowski\n",
       "12            5  1    0.915554  Manhattan\n",
       "13            5  2    0.914934  Euclidean\n",
       "14            5  5    0.915905  Minkowski\n",
       "15            6  1    0.916998  Manhattan\n",
       "16            6  2    0.914606  Euclidean\n",
       "17            6  5    0.913982  Minkowski\n",
       "18            7  1    0.915794  Manhattan\n",
       "19            7  2    0.914752  Euclidean\n",
       "20            7  5    0.913631  Minkowski"
      ]
     },
     "execution_count": 58,
     "metadata": {},
     "output_type": "execute_result"
    }
   ],
   "source": [
    "results_KNN = pd.DataFrame(gs_KNN.cv_results_['params'])\n",
    "results_KNN['test_score'] = gs_KNN.cv_results_['mean_test_score']\n",
    "results_KNN['metric'] = results_KNN['p'].replace([1,2,5], [\"Manhattan\", \"Euclidean\", \"Minkowski\"])\n",
    "results_KNN"
   ]
  },
  {
   "cell_type": "code",
   "execution_count": 59,
   "metadata": {},
   "outputs": [
    {
     "data": {
      "image/png": "[encoded data removed]",
      "text/plain": [
       "<Figure size 432x288 with 1 Axes>"
      ]
     },
     "metadata": {
      "image/png": {
       "height": 281,
       "width": 394
      }
     },
     "output_type": "display_data"
    }
   ],
   "source": [
    "import matplotlib.pyplot as plt\n",
    "%matplotlib inline \n",
    "%config InlineBackend.figure_format = 'retina'\n",
    "plt.style.use(\"ggplot\")\n",
    "\n",
    "for i in [\"Manhattan\", \"Euclidean\", \"Minkowski\"]:\n",
    "    temp = results_KNN[results_KNN['metric'] == i]\n",
    "    plt.plot(temp['n_neighbors'], temp['test_score'], marker = '.', label = i)\n",
    "    \n",
    "plt.legend()\n",
    "plt.xlabel('Number of Neighbors')\n",
    "plt.ylabel(\"Mean CV Score\")\n",
    "plt.title(\"KNN Performance Comparison\")\n",
    "plt.show()"
   ]
  },
  {
   "cell_type": "markdown",
   "metadata": {},
   "source": [
    "### Decision Tree Hyperparameter Tuning <a name=\"DT\"></a>"
   ]
  },
  {
   "cell_type": "code",
   "execution_count": 60,
   "metadata": {},
   "outputs": [
    {
     "name": "stdout",
     "output_type": "stream",
     "text": [
      "Fitting 15 folds for each of 32 candidates, totalling 480 fits\n"
     ]
    },
    {
     "name": "stderr",
     "output_type": "stream",
     "text": [
      "[Parallel(n_jobs=1)]: Using backend SequentialBackend with 1 concurrent workers.\n",
      "[Parallel(n_jobs=1)]: Done 480 out of 480 | elapsed:    1.0s finished\n"
     ]
    }
   ],
   "source": [
    "df_classifier = DecisionTreeClassifier(random_state=999)\n",
    "\n",
    "params_DT = {'criterion': ['gini', 'entropy'],\n",
    "             'max_depth': [1, 2, 3, 4, 5, 6, 7, 8],\n",
    "             'min_samples_split': [2, 3]}\n",
    "\n",
    "gs_DT = GridSearchCV(estimator=df_classifier, \n",
    "                     param_grid=params_DT, \n",
    "                     cv=cv_method,\n",
    "                     verbose=1, \n",
    "                     scoring='roc_auc')\n",
    "\n",
    "gs_DT.fit(D_train_fs, t_train);"
   ]
  },
  {
   "cell_type": "code",
   "execution_count": 61,
   "metadata": {},
   "outputs": [
    {
     "data": {
      "text/plain": [
       "{'criterion': 'gini', 'max_depth': 4, 'min_samples_split': 2}"
      ]
     },
     "execution_count": 61,
     "metadata": {},
     "output_type": "execute_result"
    }
   ],
   "source": [
    "gs_DT.best_params_"
   ]
  },
  {
   "cell_type": "code",
   "execution_count": 62,
   "metadata": {},
   "outputs": [
    {
     "data": {
      "text/plain": [
       "0.8971971153846154"
      ]
     },
     "execution_count": 62,
     "metadata": {},
     "output_type": "execute_result"
    }
   ],
   "source": [
    "gs_DT.best_score_"
   ]
  },
  {
   "cell_type": "code",
   "execution_count": 63,
   "metadata": {},
   "outputs": [
    {
     "data": {
      "text/plain": [
       "Index(['criterion', 'max_depth', 'min_samples_split', 'test_score'], dtype='object')"
      ]
     },
     "execution_count": 63,
     "metadata": {},
     "output_type": "execute_result"
    }
   ],
   "source": [
    "results_DT = pd.DataFrame(gs_DT.cv_results_['params'])\n",
    "results_DT['test_score'] = gs_DT.cv_results_['mean_test_score']\n",
    "results_DT.columns"
   ]
  },
  {
   "cell_type": "code",
   "execution_count": 64,
   "metadata": {},
   "outputs": [
    {
     "data": {
      "image/png": "[encoded data removed]",
      "text/plain": [
       "<Figure size 432x288 with 1 Axes>"
      ]
     },
     "metadata": {
      "image/png": {
       "height": 281,
       "width": 394
      }
     },
     "output_type": "display_data"
    }
   ],
   "source": [
    "for i in ['gini', 'entropy']:\n",
    "    temp = results_DT[results_DT['criterion'] == i]\n",
    "    temp_average = temp.groupby('max_depth').agg({'test_score': 'mean'})\n",
    "    plt.plot(temp_average, marker = '.', label = i)\n",
    "    \n",
    "    \n",
    "plt.legend()\n",
    "plt.xlabel('Max Depth')\n",
    "plt.ylabel(\"Mean CV Score\")\n",
    "plt.title(\"DT Performance Comparison\")\n",
    "plt.show()"
   ]
  },
  {
   "cell_type": "markdown",
   "metadata": {},
   "source": [
    "### Gaussian Naive Bayes Hyperparameter Tuning <a name=\"GB\"></a>"
   ]
  },
  {
   "cell_type": "code",
   "execution_count": 65,
   "metadata": {},
   "outputs": [
    {
     "name": "stdout",
     "output_type": "stream",
     "text": [
      "Fitting 15 folds for each of 100 candidates, totalling 1500 fits\n"
     ]
    },
    {
     "name": "stderr",
     "output_type": "stream",
     "text": [
      "[Parallel(n_jobs=1)]: Using backend SequentialBackend with 1 concurrent workers.\n",
      "[Parallel(n_jobs=1)]: Done 1500 out of 1500 | elapsed:    3.0s finished\n"
     ]
    }
   ],
   "source": [
    "np.random.seed(999)\n",
    "\n",
    "nb_classifier = GaussianNB()\n",
    "\n",
    "params_NB = {'var_smoothing': np.logspace(0,-9, num=100)}\n",
    "\n",
    "gs_NB = GridSearchCV(estimator=nb_classifier, \n",
    "                     param_grid=params_NB, \n",
    "                     cv=cv_method,\n",
    "                     verbose=1, \n",
    "                     scoring='roc_auc')\n",
    "\n",
    "Data_fs_transformed = PowerTransformer().fit_transform(D_train_fs)\n",
    "\n",
    "gs_NB.fit(Data_fs_transformed, t_train);"
   ]
  },
  {
   "cell_type": "code",
   "execution_count": 66,
   "metadata": {},
   "outputs": [
    {
     "data": {
      "text/plain": [
       "{'var_smoothing': 0.004328761281083057}"
      ]
     },
     "execution_count": 66,
     "metadata": {},
     "output_type": "execute_result"
    }
   ],
   "source": [
    "gs_NB.best_params_"
   ]
  },
  {
   "cell_type": "code",
   "execution_count": 67,
   "metadata": {},
   "outputs": [
    {
     "data": {
      "text/plain": [
       "0.90413344017094"
      ]
     },
     "execution_count": 67,
     "metadata": {},
     "output_type": "execute_result"
    }
   ],
   "source": [
    "gs_NB.best_score_"
   ]
  },
  {
   "cell_type": "code",
   "execution_count": 68,
   "metadata": {},
   "outputs": [],
   "source": [
    "results_NB = pd.DataFrame(gs_NB.cv_results_['params'])\n",
    "results_NB['test_score'] = gs_NB.cv_results_['mean_test_score']"
   ]
  },
  {
   "cell_type": "code",
   "execution_count": 69,
   "metadata": {
    "scrolled": true
   },
   "outputs": [
    {
     "data": {
      "image/png": "[encoded data removed]",
      "text/plain": [
       "<Figure size 432x288 with 1 Axes>"
      ]
     },
     "metadata": {
      "image/png": {
       "height": 281,
       "width": 413
      }
     },
     "output_type": "display_data"
    }
   ],
   "source": [
    "plt.plot(results_NB['var_smoothing'], results_NB['test_score'], marker = '.')    \n",
    "plt.xlabel('Var. Smoothing')\n",
    "plt.ylabel(\"Mean CV Score\")\n",
    "plt.title(\"NB Performance Comparison\")\n",
    "plt.show()"
   ]
  },
  {
   "cell_type": "markdown",
   "metadata": {},
   "source": [
    "### Support Vector Machines Hyperparameter Tuning <a name=\"SVM\"></a>\n",
    "The code from the Feature Ranking tutorials (Aksakalli, 2021) was adapted for the Support Vector Machines model, with ideas for the parameters coming from our own research (Liu, 2020; Saini, 2020)."
   ]
  },
  {
   "cell_type": "code",
   "execution_count": 70,
   "metadata": {
    "scrolled": true
   },
   "outputs": [
    {
     "name": "stdout",
     "output_type": "stream",
     "text": [
      "Fitting 15 folds for each of 60 candidates, totalling 900 fits\n"
     ]
    },
    {
     "name": "stderr",
     "output_type": "stream",
     "text": [
      "[Parallel(n_jobs=1)]: Using backend SequentialBackend with 1 concurrent workers.\n",
      "[Parallel(n_jobs=1)]: Done 900 out of 900 | elapsed:   27.3s finished\n"
     ]
    },
    {
     "data": {
      "text/plain": [
       "GridSearchCV(cv=RepeatedStratifiedKFold(n_repeats=3, n_splits=5, random_state=999),\n",
       "             estimator=SVC(),\n",
       "             param_grid={'C': [0.1, 1, 100, 1000],\n",
       "                         'gamma': [1, 0.1, 0.01, 0.001, 0.0001],\n",
       "                         'kernel': ['rbf', 'poly', 'sigmoid']},\n",
       "             scoring='roc_auc', verbose=1)"
      ]
     },
     "execution_count": 70,
     "metadata": {},
     "output_type": "execute_result"
    }
   ],
   "source": [
    "params_SVM = { 'C':[0.1,1,100,1000], 'kernel':['rbf', 'poly', 'sigmoid'],'gamma': [1, 0.1, 0.01, 0.001, 0.0001]}\n",
    "\n",
    "gs_SVM = GridSearchCV(estimator = SVC(),\n",
    "                      param_grid = params_SVM,\n",
    "                      cv = cv_method,\n",
    "                      verbose = 1,\n",
    "                      refit = True,\n",
    "                      scoring = 'roc_auc')\n",
    "\n",
    "gs_SVM.fit(D_train_fs, t_train)"
   ]
  },
  {
   "cell_type": "code",
   "execution_count": 71,
   "metadata": {},
   "outputs": [
    {
     "data": {
      "text/plain": [
       "{'C': 1000, 'gamma': 0.001, 'kernel': 'rbf'}"
      ]
     },
     "execution_count": 71,
     "metadata": {},
     "output_type": "execute_result"
    }
   ],
   "source": [
    "gs_SVM.best_params_"
   ]
  },
  {
   "cell_type": "code",
   "execution_count": 72,
   "metadata": {},
   "outputs": [
    {
     "data": {
      "text/plain": [
       "0.9071037393162392"
      ]
     },
     "execution_count": 72,
     "metadata": {},
     "output_type": "execute_result"
    }
   ],
   "source": [
    "gs_SVM.best_score_"
   ]
  },
  {
   "cell_type": "code",
   "execution_count": 73,
   "metadata": {},
   "outputs": [
    {
     "data": {
      "text/plain": [
       "Index(['C', 'gamma', 'kernel', 'test_score'], dtype='object')"
      ]
     },
     "execution_count": 73,
     "metadata": {},
     "output_type": "execute_result"
    }
   ],
   "source": [
    "results_SVM = pd.DataFrame(gs_SVM.cv_results_['params'])\n",
    "results_SVM['test_score'] = gs_SVM.cv_results_['mean_test_score']\n",
    "results_SVM.columns"
   ]
  },
  {
   "cell_type": "code",
   "execution_count": 74,
   "metadata": {},
   "outputs": [
    {
     "data": {
      "text/plain": [
       "(0.9, 0.903)"
      ]
     },
     "execution_count": 74,
     "metadata": {},
     "output_type": "execute_result"
    },
    {
     "data": {
      "image/png": "[encoded data removed]",
      "text/plain": [
       "<Figure size 432x288 with 1 Axes>"
      ]
     },
     "metadata": {
      "image/png": {
       "height": 268,
       "width": 407
      }
     },
     "output_type": "display_data"
    }
   ],
   "source": [
    "svmbp = sns.barplot(x=\"C\",\n",
    "            y=\"test_score\",\n",
    "            hue = 'gamma',\n",
    "            ci = None,\n",
    "            data=results_SVM)\n",
    "plt.ylim(0.9, 0.903)"
   ]
  },
  {
   "cell_type": "markdown",
   "metadata": {},
   "source": [
    "### Random Forest Hyperparameter Tuning <a name=\"RF\"></a>"
   ]
  },
  {
   "cell_type": "code",
   "execution_count": 75,
   "metadata": {},
   "outputs": [
    {
     "name": "stdout",
     "output_type": "stream",
     "text": [
      "Fitting 15 folds for each of 12 candidates, totalling 180 fits\n"
     ]
    },
    {
     "name": "stderr",
     "output_type": "stream",
     "text": [
      "[Parallel(n_jobs=-2)]: Using backend LokyBackend with 7 concurrent workers.\n",
      "[Parallel(n_jobs=-2)]: Done  36 tasks      | elapsed:    4.6s\n",
      "[Parallel(n_jobs=-2)]: Done 180 out of 180 | elapsed:   21.2s finished\n"
     ]
    },
    {
     "data": {
      "text/plain": [
       "GridSearchCV(cv=RepeatedStratifiedKFold(n_repeats=3, n_splits=5, random_state=999),\n",
       "             estimator=RandomForestClassifier(random_state=999), n_jobs=-2,\n",
       "             param_grid={'max_depth': [5, 7, 10, 12],\n",
       "                         'n_estimators': [100, 250, 500]},\n",
       "             scoring='roc_auc', verbose=1)"
      ]
     },
     "execution_count": 75,
     "metadata": {},
     "output_type": "execute_result"
    }
   ],
   "source": [
    "rf_classifier = RandomForestClassifier(random_state=999)\n",
    "\n",
    "params_rf = {'n_estimators': [100, 250, 500],\n",
    "             'max_depth': [5, 7, 10, 12]}\n",
    "\n",
    "gs_rf = GridSearchCV(estimator = rf_classifier,\n",
    "                      param_grid = params_rf,\n",
    "                      cv = cv_method,\n",
    "                      verbose = 1,\n",
    "                      n_jobs = -2,\n",
    "                      scoring = 'roc_auc')\n",
    "\n",
    "gs_rf.fit(D_train_fs, t_train)"
   ]
  },
  {
   "cell_type": "code",
   "execution_count": 76,
   "metadata": {},
   "outputs": [
    {
     "data": {
      "text/plain": [
       "{'max_depth': 10, 'n_estimators': 250}"
      ]
     },
     "execution_count": 76,
     "metadata": {},
     "output_type": "execute_result"
    }
   ],
   "source": [
    "gs_rf.best_params_"
   ]
  },
  {
   "cell_type": "code",
   "execution_count": 77,
   "metadata": {},
   "outputs": [
    {
     "data": {
      "text/plain": [
       "0.9407010683760684"
      ]
     },
     "execution_count": 77,
     "metadata": {},
     "output_type": "execute_result"
    }
   ],
   "source": [
    "gs_rf.best_score_"
   ]
  },
  {
   "cell_type": "code",
   "execution_count": 78,
   "metadata": {},
   "outputs": [
    {
     "data": {
      "text/plain": [
       "Index(['max_depth', 'n_estimators', 'test_score'], dtype='object')"
      ]
     },
     "execution_count": 78,
     "metadata": {},
     "output_type": "execute_result"
    }
   ],
   "source": [
    "results_RF = pd.DataFrame(gs_rf.cv_results_['params'])\n",
    "results_RF['test_score'] = gs_rf.cv_results_['mean_test_score']\n",
    "results_RF.columns"
   ]
  },
  {
   "cell_type": "code",
   "execution_count": 79,
   "metadata": {},
   "outputs": [
    {
     "data": {
      "image/png": "[encoded data removed]",
      "text/plain": [
       "<Figure size 432x288 with 1 Axes>"
      ]
     },
     "metadata": {
      "image/png": {
       "height": 281,
       "width": 400
      }
     },
     "output_type": "display_data"
    }
   ],
   "source": [
    "for i in results_RF['n_estimators'].unique():\n",
    "    temp = results_RF[results_RF['n_estimators'] == i]\n",
    "    plt.plot(temp['max_depth'], temp['test_score'], marker = '.', label = 'estimators: ' + str(i))\n",
    "    \n",
    "plt.legend()\n",
    "plt.xlabel('Max Depth')\n",
    "plt.ylabel(\"Mean CV Score\")\n",
    "plt.title(\"RF Performance Comparison\")\n",
    "plt.show()"
   ]
  },
  {
   "cell_type": "markdown",
   "metadata": {},
   "source": [
    "### Best Scores Summary <a name=\"BSsummary\"></a>"
   ]
  },
  {
   "cell_type": "code",
   "execution_count": 80,
   "metadata": {},
   "outputs": [
    {
     "name": "stdout",
     "output_type": "stream",
     "text": [
      "KNN: 0.917\n",
      "Decision Tree: 0.897\n",
      "Gaussian Naive Bayes: 0.904\n",
      "Support Vector Machines: 0.907\n",
      "Random Forest: 0.941\n"
     ]
    }
   ],
   "source": [
    "print('KNN:', gs_KNN.best_score_.round(3))\n",
    "print('Decision Tree:', gs_DT.best_score_.round(3))\n",
    "print('Gaussian Naive Bayes:', gs_NB.best_score_.round(3))\n",
    "print('Support Vector Machines:', gs_SVM.best_score_.round(3))\n",
    "print('Random Forest:', gs_rf.best_score_.round(3))"
   ]
  },
  {
   "cell_type": "markdown",
   "metadata": {},
   "source": [
    "## Model Comparison <a name=\"compare\"></a>"
   ]
  },
  {
   "cell_type": "markdown",
   "metadata": {},
   "source": [
    "### Area Under the Curve <a name=\"area\"></a>\n",
    "When the Area Under the Curve scores were compared significant differences can be seen between the Random Forest model and the Decision Tree model and KNN model. A significant difference could also be seen between SVM and the Decision Tree and KNN models. Furthermore, the Gaussian Naive Bayes model was not significantly different from any model. Moreover, no significant differences can be seen between the Random Forest, SVM, and Gaussian Naive Bayes models. This outlines the the Random Forest, SVM, and Gaussian Naive Bayes models perform equally when measured by Area Under the Curve."
   ]
  },
  {
   "cell_type": "code",
   "execution_count": 81,
   "metadata": {},
   "outputs": [
    {
     "data": {
      "text/plain": [
       "0.910066863283775"
      ]
     },
     "execution_count": 81,
     "metadata": {},
     "output_type": "execute_result"
    }
   ],
   "source": [
    "cv_method_ttest = StratifiedKFold(n_splits=10, random_state=999)\n",
    "\n",
    "cv_results_KNN = cross_val_score(estimator=gs_KNN.best_estimator_,\n",
    "                                 X=D_test_fs,\n",
    "                                 y=t_test, \n",
    "                                 cv=cv_method_ttest, \n",
    "                                 n_jobs=-2,\n",
    "                                 scoring='roc_auc')\n",
    "cv_results_KNN.mean()"
   ]
  },
  {
   "cell_type": "code",
   "execution_count": 82,
   "metadata": {},
   "outputs": [
    {
     "data": {
      "text/plain": [
       "0.8950074741435035"
      ]
     },
     "execution_count": 82,
     "metadata": {},
     "output_type": "execute_result"
    }
   ],
   "source": [
    "cv_results_DT = cross_val_score(estimator=gs_DT.best_estimator_,\n",
    "                                X=D_test_fs,\n",
    "                                y=t_test, \n",
    "                                cv=cv_method_ttest, \n",
    "                                n_jobs=-2,\n",
    "                                scoring='roc_auc')\n",
    "cv_results_DT.mean()"
   ]
  },
  {
   "cell_type": "code",
   "execution_count": 83,
   "metadata": {},
   "outputs": [
    {
     "data": {
      "text/plain": [
       "0.9150866596638657"
      ]
     },
     "execution_count": 83,
     "metadata": {},
     "output_type": "execute_result"
    }
   ],
   "source": [
    "D_test_transformed_fs = PowerTransformer().fit_transform(D_test)\n",
    "\n",
    "cv_results_NB = cross_val_score(estimator=gs_NB.best_estimator_,\n",
    "                                X=D_test_transformed_fs,\n",
    "                                y=t_test, \n",
    "                                cv=cv_method_ttest, \n",
    "                                n_jobs=-2,\n",
    "                                scoring='roc_auc')\n",
    "cv_results_NB.mean()"
   ]
  },
  {
   "cell_type": "code",
   "execution_count": 84,
   "metadata": {},
   "outputs": [
    {
     "data": {
      "text/plain": [
       "0.9311065772462832"
      ]
     },
     "execution_count": 84,
     "metadata": {},
     "output_type": "execute_result"
    }
   ],
   "source": [
    "cv_results_SVM = cross_val_score(estimator=gs_SVM.best_estimator_,\n",
    "                                X=D_test_fs,\n",
    "                                y=t_test, \n",
    "                                cv=cv_method_ttest, \n",
    "                                n_jobs=-2,\n",
    "                                scoring='roc_auc')\n",
    "cv_results_SVM.mean()"
   ]
  },
  {
   "cell_type": "code",
   "execution_count": 85,
   "metadata": {},
   "outputs": [
    {
     "data": {
      "text/plain": [
       "0.9395543794440853"
      ]
     },
     "execution_count": 85,
     "metadata": {},
     "output_type": "execute_result"
    }
   ],
   "source": [
    "cv_results_RF = cross_val_score(estimator=gs_rf.best_estimator_,\n",
    "                                X=D_test_fs,\n",
    "                                y=t_test, \n",
    "                                cv=cv_method_ttest, \n",
    "                                n_jobs=-2,\n",
    "                                scoring='roc_auc')\n",
    "cv_results_RF.mean()"
   ]
  },
  {
   "cell_type": "markdown",
   "metadata": {},
   "source": [
    "### Paired T-Test Comparison <a name=\"pairedttest\"></a>"
   ]
  },
  {
   "cell_type": "code",
   "execution_count": 89,
   "metadata": {},
   "outputs": [
    {
     "name": "stdout",
     "output_type": "stream",
     "text": [
      "Ttest_relResult(statistic=1.363840227742048, pvalue=0.20575115772893512)\n",
      "Ttest_relResult(statistic=-0.29482485334319364, pvalue=0.7748152985222437)\n",
      "Ttest_relResult(statistic=-1.0786631784846425, pvalue=0.308797134511954)\n",
      "Ttest_relResult(statistic=0.7099751895482738, pvalue=0.495702062157379)\n",
      "Ttest_relResult(statistic=3.914291285476644, pvalue=0.003541567702476308)\n",
      "Ttest_relResult(statistic=3.0694033603566115, pvalue=0.013366878447171665)\n",
      "Ttest_relResult(statistic=1.687804144814289, pvalue=0.12572014783382232)\n",
      "Ttest_relResult(statistic=2.6627385654131075, pvalue=0.02592916398181725)\n",
      "Ttest_relResult(statistic=2.4454484155270397, pvalue=0.037032187050864404)\n",
      "Ttest_relResult(statistic=1.0529820508213432, pvalue=0.319797401540237)\n"
     ]
    }
   ],
   "source": [
    "print(stats.ttest_rel(cv_results_KNN, cv_results_DT))\n",
    "print(stats.ttest_rel(cv_results_KNN, cv_results_NB))\n",
    "print(stats.ttest_rel(cv_results_DT, cv_results_NB))\n",
    "print(stats.ttest_rel(cv_results_RF, cv_results_SVM))\n",
    "print(stats.ttest_rel(cv_results_RF, cv_results_DT))\n",
    "print(stats.ttest_rel(cv_results_RF, cv_results_KNN))\n",
    "print(stats.ttest_rel(cv_results_RF, cv_results_NB))\n",
    "print(stats.ttest_rel(cv_results_SVM, cv_results_DT))\n",
    "print(stats.ttest_rel(cv_results_SVM, cv_results_KNN))\n",
    "print(stats.ttest_rel(cv_results_SVM, cv_results_NB))"
   ]
  },
  {
   "cell_type": "markdown",
   "metadata": {},
   "source": [
    "### Classification Report: Accuracy, Precision, Recall, & F1 Score <a name=\"classification\"></a>\n",
    "In the below Classification Reports it can be seen that the Random Forest model outperforms all other models in terms of recall, accuracy, and F1-score. It's performance on recall is also backed up by number of true positives it predicted in the Confusion Matrix. Furthermore, the Random Forest model's net profit was the highest out of all the other models. These scores give evidence for the Random Forest model potentially being the better model out of the others in this report."
   ]
  },
  {
   "cell_type": "code",
   "execution_count": 90,
   "metadata": {},
   "outputs": [],
   "source": [
    "pred_KNN = gs_KNN.predict(D_test_fs)"
   ]
  },
  {
   "cell_type": "code",
   "execution_count": 91,
   "metadata": {},
   "outputs": [],
   "source": [
    "D_test_fs_transformed = PowerTransformer().fit_transform(D_test_fs)\n",
    "pred_NB = gs_NB.predict(D_test_fs_transformed)"
   ]
  },
  {
   "cell_type": "code",
   "execution_count": 92,
   "metadata": {},
   "outputs": [],
   "source": [
    "pred_DT = gs_DT.predict(D_test_fs)"
   ]
  },
  {
   "cell_type": "code",
   "execution_count": 93,
   "metadata": {},
   "outputs": [],
   "source": [
    "pred_SVM = gs_SVM.predict(D_test_fs)"
   ]
  },
  {
   "cell_type": "code",
   "execution_count": 94,
   "metadata": {},
   "outputs": [],
   "source": [
    "pred_rf = gs_rf.predict(D_test_fs)"
   ]
  },
  {
   "cell_type": "code",
   "execution_count": 96,
   "metadata": {},
   "outputs": [
    {
     "name": "stdout",
     "output_type": "stream",
     "text": [
      "\n",
      "Classification Report for K-Nearest Neighbor\n",
      "              precision    recall  f1-score   support\n",
      "\n",
      "           0       0.81      0.91      0.86       161\n",
      "           1       0.87      0.75      0.81       138\n",
      "\n",
      "    accuracy                           0.84       299\n",
      "   macro avg       0.84      0.83      0.83       299\n",
      "weighted avg       0.84      0.84      0.83       299\n",
      "\n",
      "\n",
      "Classification Report for Naive Bayes\n",
      "              precision    recall  f1-score   support\n",
      "\n",
      "           0       0.85      0.88      0.86       161\n",
      "           1       0.85      0.82      0.83       138\n",
      "\n",
      "    accuracy                           0.85       299\n",
      "   macro avg       0.85      0.85      0.85       299\n",
      "weighted avg       0.85      0.85      0.85       299\n",
      "\n",
      "\n",
      "Classification Report for Decision Tree\n",
      "              precision    recall  f1-score   support\n",
      "\n",
      "           0       0.80      0.86      0.83       161\n",
      "           1       0.82      0.75      0.78       138\n",
      "\n",
      "    accuracy                           0.81       299\n",
      "   macro avg       0.81      0.80      0.80       299\n",
      "weighted avg       0.81      0.81      0.81       299\n",
      "\n",
      "\n",
      "Classification Report for Support Vector Machines\n",
      "              precision    recall  f1-score   support\n",
      "\n",
      "           0       0.85      0.89      0.87       161\n",
      "           1       0.87      0.81      0.84       138\n",
      "\n",
      "    accuracy                           0.86       299\n",
      "   macro avg       0.86      0.85      0.85       299\n",
      "weighted avg       0.86      0.86      0.86       299\n",
      "\n",
      "\n",
      "Classification Report for Random Forest\n",
      "              precision    recall  f1-score   support\n",
      "\n",
      "           0       0.90      0.92      0.91       161\n",
      "           1       0.90      0.88      0.89       138\n",
      "\n",
      "    accuracy                           0.90       299\n",
      "   macro avg       0.90      0.90      0.90       299\n",
      "weighted avg       0.90      0.90      0.90       299\n",
      "\n"
     ]
    }
   ],
   "source": [
    "print(\"\\nClassification Report for K-Nearest Neighbor\") \n",
    "print(metrics.classification_report(t_test, pred_KNN))\n",
    "print(\"\\nClassification Report for Naive Bayes\") \n",
    "print(metrics.classification_report(t_test, pred_NB))\n",
    "print(\"\\nClassification Report for Decision Tree\") \n",
    "print(metrics.classification_report(t_test, pred_DT))\n",
    "print(\"\\nClassification Report for Support Vector Machines\") \n",
    "print(metrics.classification_report(t_test, pred_SVM))\n",
    "print(\"\\nClassification Report for Random Forest\") \n",
    "print(metrics.classification_report(t_test, pred_rf))"
   ]
  },
  {
   "cell_type": "markdown",
   "metadata": {},
   "source": [
    "### Confusion Matrix <a name=\"confusion\"></a>"
   ]
  },
  {
   "cell_type": "code",
   "execution_count": 97,
   "metadata": {},
   "outputs": [
    {
     "name": "stdout",
     "output_type": "stream",
     "text": [
      "\n",
      "Confusion Matrix for K-Nearest Neighbor\n",
      "[[146  15]\n",
      " [ 34 104]]\n",
      "\n",
      "Confusion Matrix for Naive Bayes\n",
      "[[141  20]\n",
      " [ 25 113]]\n",
      "\n",
      "Confusion Matrix for Decision Tree\n",
      "[[138  23]\n",
      " [ 35 103]]\n",
      "\n",
      "Confusion Matrix for Support Vector Machines\n",
      "[[144  17]\n",
      " [ 26 112]]\n",
      "\n",
      "Confusion Matrix for Random Forest\n",
      "[[148  13]\n",
      " [ 16 122]]\n"
     ]
    }
   ],
   "source": [
    "print(\"\\nConfusion Matrix for K-Nearest Neighbor\") \n",
    "print(metrics.confusion_matrix(t_test, pred_KNN))\n",
    "print(\"\\nConfusion Matrix for Naive Bayes\") \n",
    "print(metrics.confusion_matrix(t_test, pred_NB))\n",
    "print(\"\\nConfusion Matrix for Decision Tree\") \n",
    "print(metrics.confusion_matrix(t_test, pred_DT))\n",
    "print(\"\\nConfusion Matrix for Support Vector Machines\") \n",
    "print(metrics.confusion_matrix(t_test, pred_SVM))\n",
    "print(\"\\nConfusion Matrix for Random Forest\") \n",
    "print(metrics.confusion_matrix(t_test, pred_rf))"
   ]
  },
  {
   "cell_type": "markdown",
   "metadata": {},
   "source": [
    "### Profit Matrix <a name=\"profit\"></a>"
   ]
  },
  {
   "cell_type": "code",
   "execution_count": 98,
   "metadata": {},
   "outputs": [],
   "source": [
    "profit_matrix = np.array([[0, -10], [-50, 100]])"
   ]
  },
  {
   "cell_type": "code",
   "execution_count": 101,
   "metadata": {},
   "outputs": [
    {
     "name": "stdout",
     "output_type": "stream",
     "text": [
      "\n",
      "Profit Matrix for K-Nearest Neighbor\n",
      "[[    0  -150]\n",
      " [-1700 10400]]\n",
      "\n",
      "Profit Matrix for Naive Bayes\n",
      "[[    0  -200]\n",
      " [-1250 11300]]\n",
      "\n",
      "Profit Matrix for Decision Tree\n",
      "[[    0  -230]\n",
      " [-1750 10300]]\n",
      "\n",
      "Profit Matrix for Support Vector Machines\n",
      "[[    0  -170]\n",
      " [-1300 11200]]\n",
      "\n",
      "Profit Matrix for Random Forest\n",
      "[[    0  -130]\n",
      " [ -800 12200]]\n"
     ]
    }
   ],
   "source": [
    "print(\"\\nProfit Matrix for K-Nearest Neighbor\") \n",
    "print(metrics.confusion_matrix(t_test, pred_KNN)*profit_matrix)\n",
    "print(\"\\nProfit Matrix for Naive Bayes\") \n",
    "print(metrics.confusion_matrix(t_test, pred_NB)*profit_matrix)\n",
    "print(\"\\nProfit Matrix for Decision Tree\") \n",
    "print(metrics.confusion_matrix(t_test, pred_DT)*profit_matrix)\n",
    "print(\"\\nProfit Matrix for Support Vector Machines\") \n",
    "print(metrics.confusion_matrix(t_test, pred_SVM)*profit_matrix)\n",
    "print(\"\\nProfit Matrix for Random Forest\") \n",
    "print(metrics.confusion_matrix(t_test, pred_rf)*profit_matrix)"
   ]
  },
  {
   "cell_type": "code",
   "execution_count": 102,
   "metadata": {},
   "outputs": [
    {
     "name": "stdout",
     "output_type": "stream",
     "text": [
      "\n",
      "Net Profit for K-Nearest Neighbor\n",
      "8550\n",
      "\n",
      "Net Profit for Naive Bayes\n",
      "9850\n",
      "\n",
      "Net Profit for Decision Tree\n",
      "8320\n",
      "\n",
      "Net Profit for Support Vector Machines\n",
      "9730\n",
      "\n",
      "Net Profit for Random Forest\n",
      "11270\n"
     ]
    }
   ],
   "source": [
    "print(\"\\nNet Profit for K-Nearest Neighbor\")\n",
    "print(np.sum(metrics.confusion_matrix(t_test, pred_KNN)*profit_matrix))\n",
    "print(\"\\nNet Profit for Naive Bayes\")\n",
    "print(np.sum(metrics.confusion_matrix(t_test, pred_NB)*profit_matrix))\n",
    "print(\"\\nNet Profit for Decision Tree\")\n",
    "print(np.sum(metrics.confusion_matrix(t_test, pred_DT)*profit_matrix))\n",
    "print(\"\\nNet Profit for Support Vector Machines\")\n",
    "print(np.sum(metrics.confusion_matrix(t_test, pred_SVM)*profit_matrix))\n",
    "print(\"\\nNet Profit for Random Forest\")\n",
    "print(np.sum(metrics.confusion_matrix(t_test, pred_rf)*profit_matrix))"
   ]
  },
  {
   "cell_type": "markdown",
   "metadata": {},
   "source": [
    "# Critique & Limitations <a name=\"critique\"></a>\n",
    "In terms of strengths, many of the features analyzed in Phase 1 as being informative in relation to the target variable appeared regularly in feature selection analysis. Features such as ‘Oldpeak’, ‘ST-Slope’, ‘Exercise Angina’ and ‘Chest Pain Type’ appeared in all the feature selection methods used in Phase 2.  This provides confidence that the machine learning models employed understood the mechanics of the dataset and aligned with what was identified in Phase 1, as part of the exploratory analysis. \n",
    "\n",
    "Another strength of our approach was that for feature selection we employed a wide range of methods and for the Hyperparameter Fine-Tuning section we employed a wide range of machine learning models. This strengthens our conclusions for the best features in our dataset and what machine learning model best fits our dataset. Furthermore, the different machine learning models employed throughout Phase 2 generated consistent results, which provided confidence that our approach to predictive modeling was sound. This allowed us to select the best model from a set of strong performances across the different machine learning models.\n",
    "\n",
    "A limitation with our approach was that when selecting the parameters for each Machine Learning model we went for the parameters that produced the highest predictive performance for each model. As such, we sacrificed the relative interpretability associated with more in-depth research into model parameters.\n",
    "\n",
    "Furthermore, limitations exist for the machine learning models we employed. For example the Naive Bayes model ignores interactions between descriptive features when conditioned upon a given target feature. In our data-set, we have a number of descriptive features that are related to one another such as Exercise Angina, Chest Pain Type and Oldpeak and ST Slope. Although the model performs well in Phase 2 of our report and can serve as a baseline for comparison purposes with other ML models, its limitation of assuming the descriptive features are independent makes it difficult to apply to this data-set in a real-world application.\n",
    "\n",
    "Lastly, not all possible binary classification machine learning models (e.g. Logisitic Regression) were employed in this report. Therefore, there is the possibility that there are other more suitable models for this dataset that were not examined."
   ]
  },
  {
   "cell_type": "markdown",
   "metadata": {},
   "source": [
    "# Summary & Conclusions <a name=\"conclusion\"></a>"
   ]
  },
  {
   "cell_type": "markdown",
   "metadata": {},
   "source": [
    "## Project Summary <a name=\"psummary\"></a>\n",
    "In Phase 1, we had the goal of preparing our dataset for machine learning and visualizing the data set to understand the existing relationships between the features and the binary target variable (i.e., Heart Disease). From our visualization and exploration of the data, we identified a number of key variables related to the presence of heart disease including Age, Oldpeak, ST Slope, Exercise Angina and Chest Pain Type. \n",
    "\n",
    "The key takeaway from our analysis is that old age, higher oldpeak measurements, presence of exercise angina, asymptomatic chest pain and an ST Slope reading of 2 (flat) or 3 (downward sloping) was more pronounced in patients with heart disease compared to patients without heart disease.\n",
    "\n",
    "In Phase 2, our goal was to implement machine learning models on the heart disease data set for predictive modeling purposes.\n",
    "\n",
    "Following data preparation (one-hot encoding, scaling and normalization), the best features were identified using Feature Selection methods. Using 6 features produced the best performance for the feature selection methods with SpFSR having the best performance compared to the other methods. This method identified ST-Slope, Exercise Angina, Oldpeak, and Chest Pain Type among the best features (4 of 6), which coincides with our conclusion in Phase 1.\n",
    "\n",
    "The training and testing datasets were spliced to only include the 6 best features identified using SpFSR. The spliced dataset was then used for model fitting and hyperparameter tuning.  The hyperparameter tuning process using a Grid Search method was employed and the Area Under the Curve being used as the scoring metric for all models. Random Forest generated the best score closely followed by SVM and Gaussian Naïve Bayes. However, no significant differences were identified between these three models based on paired T-Test comparison.\n",
    "\n",
    "According to Classification Reports however, Random Forest outperformed all other models in terms of Recall, Accuracy, and F1-Score. It's performance on Recall is also backed up by number of True Positives predicted in the Confusion Matrix. Furthermore, the Random Forest model had the highest Net Profit compared to the other models. \n",
    "\n",
    "The results provide evidence to suggest that the Random Forest machine learning model best predicts the outcome of heart disease (the target variable) based on the descriptive features provided."
   ]
  },
  {
   "cell_type": "markdown",
   "metadata": {},
   "source": [
    "## Summary of Findings <a name=\"fsummary\"></a>"
   ]
  },
  {
   "cell_type": "markdown",
   "metadata": {},
   "source": [
    "The Random Forest model with a maximum depth of 10, number of estimators equaling 250, and with the 6 best features selected by SpFSR produced the highest cross-validated AUC score on the training data. However, when the performance of the models was evaluated using the test data it was found that the Random Forest, Gaussian Naive Bayes, and Support Vector Machines models all performed equally when compared using the AUC score. No significant difference was observed between this three models when compared using paired t-tests. However, Random Forest and SVM both significantly outperformed the K-Nearest Neighbors and Decision Tree models. A Classification Report was used to compare the models on accuracy, recall, and F1 score. In this report the Random Forest model had the highest Accuracy, Recall, and F1 Score. Furthermore, the Confusion Matrix and Profit Matrix showed that the Random Forest had the highest True Positive Rate (backing up its high Recall score in the Classification Report) as well as having the highest Net Profit compared to the other models. "
   ]
  },
  {
   "cell_type": "markdown",
   "metadata": {},
   "source": [
    "## Conclusions <a name=\"conclusions\"></a>\n",
    "To conclude it was found that for this dataset the Random Forest model using the following six features: Sex, Exercise Angina, Chest Pain type, Oldpeak, ST Slope, and Max. Heart Rate, yielded the highest Accuracy, AUC score, Recall, F1 Score, and the highest Net Profit compared to the other models. This provided evidence for the Random Forest model being the best suited model to the heart disease dataset."
   ]
  },
  {
   "cell_type": "markdown",
   "metadata": {},
   "source": [
    "# References <a name=\"references\"></a>\n",
    "\n",
    "[1] Aksakalli, D. (2021). Feature Selection and Ranking in Machine Learning. Retrieved 22 May 2021, from https://www.featureranking.com/\n",
    "\n",
    "[2] Liu, C. (2020). SVM Hyperparameter Tuning using GridSearchCV - Velocity Business Solutions Limited. Retrieved 22 May 2021, from https://www.vebuso.com/2020/03/svm-hyperparameter-tuning-using-gridsearchcv/\n",
    "\n",
    "[3] Saini, B. (2020). Hyperparameter Tuning of Support Vector Machine Using GridSearchCV. Retrieved 22 May 2021, from https://medium.com/swlh/hyperparameter-tuning-of-support-vector-machine-using-gridsearchcv-4d17671d1ed2"
   ]
  }
 ],
 "metadata": {
  "kernelspec": {
   "display_name": "Python 3",
   "language": "python",
   "name": "python3"
  },
  "language_info": {
   "codemirror_mode": {
    "name": "ipython",
    "version": 3
   },
   "file_extension": ".py",
   "mimetype": "text/x-python",
   "name": "python",
   "nbconvert_exporter": "python",
   "pygments_lexer": "ipython3",
   "version": "3.7.0"
  }
 },
 "nbformat": 4,
 "nbformat_minor": 4
}
